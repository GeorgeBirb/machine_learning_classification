{
 "cells": [
  {
   "cell_type": "markdown",
   "metadata": {},
   "source": [
    "# Models\n",
    "\n",
    "\n",
    "## Model 3\n",
    "\n",
    "- get_dummies for categorical data + column \"pdays\".\n",
    "- perform feature selection\n",
    "- perform Kmeans"
   ]
  },
  {
   "cell_type": "markdown",
   "metadata": {},
   "source": [
    "## Import libraries/packages "
   ]
  },
  {
   "cell_type": "code",
   "execution_count": 83,
   "metadata": {},
   "outputs": [],
   "source": [
    "### General libraries ###\n",
    "import pandas as pd\n",
    "from pandas.api.types import CategoricalDtype\n",
    "import matplotlib.pyplot as plt\n",
    "import plotly.graph_objects as go\n",
    "import seaborn as sns\n",
    "import numpy as np\n",
    "import warnings\n",
    "warnings.filterwarnings('ignore')\n",
    "%matplotlib inline\n",
    "import graphviz \n",
    "from graphviz import Source\n",
    "from IPython.display import SVG\n",
    "import os\n",
    "\n",
    "##################################\n",
    "\n",
    "### ML Models ###\n",
    "from sklearn.linear_model import LogisticRegression\n",
    "from sklearn import tree\n",
    "from sklearn.tree.export import export_text\n",
    "from sklearn.neural_network import MLPClassifier\n",
    "from sklearn.model_selection import GridSearchCV\n",
    "from sklearn.model_selection import train_test_split, cross_val_score, StratifiedKFold\n",
    "from sklearn.preprocessing import StandardScaler, LabelEncoder\n",
    "from sklearn.cluster import KMeans\n",
    "from sklearn.metrics import silhouette_score, davies_bouldin_score\n",
    "\n",
    "##################################\n",
    "\n",
    "### Metrics ###\n",
    "from yellowbrick.classifier import ConfusionMatrix\n",
    "from sklearn import metrics\n",
    "from sklearn.metrics import f1_score,confusion_matrix, mean_squared_error, mean_absolute_error, classification_report, roc_auc_score, roc_curve, precision_score, recall_score"
   ]
  },
  {
   "cell_type": "markdown",
   "metadata": {},
   "source": [
    "## Part 1: Load and clean the data\n",
    "\n",
    "In this section we will load the data from the csv file and check for any \"impurities\", such as null values or duplicate rows. If any of these will appear, we will remove them from the data set. We will also plot the correlations of the class column with all the other columns."
   ]
  },
  {
   "cell_type": "code",
   "execution_count": 84,
   "metadata": {},
   "outputs": [
    {
     "name": "stdout",
     "output_type": "stream",
     "text": [
      "<class 'pandas.core.frame.DataFrame'>\n",
      "RangeIndex: 41188 entries, 0 to 41187\n",
      "Data columns (total 21 columns):\n",
      "age               41188 non-null int64\n",
      "job               41188 non-null object\n",
      "marital           41188 non-null object\n",
      "education         41188 non-null object\n",
      "default           41188 non-null object\n",
      "housing           41188 non-null object\n",
      "loan              41188 non-null object\n",
      "contact           41188 non-null object\n",
      "month             41188 non-null object\n",
      "day_of_week       41188 non-null object\n",
      "duration          41188 non-null int64\n",
      "campaign          41188 non-null int64\n",
      "pdays             41188 non-null int64\n",
      "previous          41188 non-null int64\n",
      "poutcome          41188 non-null object\n",
      "emp.var.rate      41188 non-null float64\n",
      "cons.price.idx    41188 non-null float64\n",
      "cons.conf.idx     41188 non-null float64\n",
      "euribor3m         41188 non-null float64\n",
      "nr.employed       41188 non-null float64\n",
      "y                 41188 non-null object\n",
      "dtypes: float64(5), int64(5), object(11)\n",
      "memory usage: 6.6+ MB\n"
     ]
    }
   ],
   "source": [
    "# Load the data.\n",
    "data = pd.read_csv('bank-additional/bank-additional-full.csv')\n",
    "\n",
    "# Information\n",
    "data.info()"
   ]
  },
  {
   "cell_type": "code",
   "execution_count": 85,
   "metadata": {},
   "outputs": [
    {
     "name": "stdout",
     "output_type": "stream",
     "text": [
      "admin.           10422\n",
      "blue-collar       9254\n",
      "technician        6743\n",
      "services          3969\n",
      "management        2924\n",
      "retired           1720\n",
      "entrepreneur      1456\n",
      "self-employed     1421\n",
      "housemaid         1060\n",
      "unemployed        1014\n",
      "student            875\n",
      "unknown            330\n",
      "Name: job, dtype: int64 \n",
      "\n",
      "married     24928\n",
      "single      11568\n",
      "divorced     4612\n",
      "unknown        80\n",
      "Name: marital, dtype: int64 \n",
      "\n",
      "university.degree      12168\n",
      "high.school             9515\n",
      "basic.9y                6045\n",
      "professional.course     5243\n",
      "basic.4y                4176\n",
      "basic.6y                2292\n",
      "unknown                 1731\n",
      "illiterate                18\n",
      "Name: education, dtype: int64 \n",
      "\n",
      "no         32588\n",
      "unknown     8597\n",
      "yes            3\n",
      "Name: default, dtype: int64 \n",
      "\n",
      "yes        21576\n",
      "no         18622\n",
      "unknown      990\n",
      "Name: housing, dtype: int64 \n",
      "\n",
      "no         33950\n",
      "yes         6248\n",
      "unknown      990\n",
      "Name: loan, dtype: int64 \n",
      "\n",
      "cellular     26144\n",
      "telephone    15044\n",
      "Name: contact, dtype: int64 \n",
      "\n",
      "may    13769\n",
      "jul     7174\n",
      "aug     6178\n",
      "jun     5318\n",
      "nov     4101\n",
      "apr     2632\n",
      "oct      718\n",
      "sep      570\n",
      "mar      546\n",
      "dec      182\n",
      "Name: month, dtype: int64 \n",
      "\n",
      "thu    8623\n",
      "mon    8514\n",
      "wed    8134\n",
      "tue    8090\n",
      "fri    7827\n",
      "Name: day_of_week, dtype: int64 \n",
      "\n",
      "nonexistent    35563\n",
      "failure         4252\n",
      "success         1373\n",
      "Name: poutcome, dtype: int64 \n",
      "\n",
      "no     36548\n",
      "yes     4640\n",
      "Name: y, dtype: int64 \n",
      "\n"
     ]
    }
   ],
   "source": [
    "# Value counts for categorical columns\n",
    "for i in data.columns[data.dtypes == 'object']:\n",
    "    print(data[i].value_counts(), '\\n')"
   ]
  },
  {
   "cell_type": "markdown",
   "metadata": {},
   "source": [
    "Now we check for duplicate rows. If any, we remove them from the data set, since they provide only reduntant information."
   ]
  },
  {
   "cell_type": "code",
   "execution_count": 86,
   "metadata": {},
   "outputs": [
    {
     "name": "stdout",
     "output_type": "stream",
     "text": [
      "There are 12 duplicate rows in the data set.\n",
      "The duplicate rows were removed.\n"
     ]
    }
   ],
   "source": [
    "# Check for duplicate rows.\n",
    "print(f\"There are {data.duplicated().sum()} duplicate rows in the data set.\")\n",
    "\n",
    "# Remove duplicate rows.\n",
    "data = data.drop_duplicates()\n",
    "print(\"The duplicate rows were removed.\")"
   ]
  },
  {
   "cell_type": "markdown",
   "metadata": {},
   "source": [
    "We also check for null values."
   ]
  },
  {
   "cell_type": "code",
   "execution_count": 87,
   "metadata": {},
   "outputs": [
    {
     "name": "stdout",
     "output_type": "stream",
     "text": [
      "There are 0 cells with null values in the data set.\n"
     ]
    }
   ],
   "source": [
    "# Check for null values.\n",
    "print(\n",
    "    f\"There are {data.isna().any().sum()} cells with null values in the data set.\")"
   ]
  },
  {
   "cell_type": "code",
   "execution_count": 88,
   "metadata": {},
   "outputs": [
    {
     "name": "stdout",
     "output_type": "stream",
     "text": [
      "<class 'pandas.core.frame.DataFrame'>\n",
      "Int64Index: 41176 entries, 0 to 41187\n",
      "Data columns (total 21 columns):\n",
      "age               41176 non-null int64\n",
      "job               41176 non-null object\n",
      "marital           41176 non-null object\n",
      "education         41176 non-null object\n",
      "default           41176 non-null object\n",
      "housing           41176 non-null object\n",
      "loan              41176 non-null object\n",
      "contact           41176 non-null object\n",
      "month             41176 non-null object\n",
      "day_of_week       41176 non-null object\n",
      "duration          41176 non-null int64\n",
      "campaign          41176 non-null int64\n",
      "pdays             41176 non-null int64\n",
      "previous          41176 non-null int64\n",
      "poutcome          41176 non-null object\n",
      "emp.var.rate      41176 non-null float64\n",
      "cons.price.idx    41176 non-null float64\n",
      "cons.conf.idx     41176 non-null float64\n",
      "euribor3m         41176 non-null float64\n",
      "nr.employed       41176 non-null float64\n",
      "y                 41176 non-null object\n",
      "dtypes: float64(5), int64(5), object(11)\n",
      "memory usage: 6.9+ MB\n"
     ]
    }
   ],
   "source": [
    "# Information about the data set after the cleaning.\n",
    "data.info()"
   ]
  },
  {
   "cell_type": "code",
   "execution_count": 89,
   "metadata": {},
   "outputs": [],
   "source": [
    "# OneHotEncoder for categorical data + 'pdays'\n",
    "features = ['job', 'marital', 'education', 'default', 'housing', 'loan', 'contact', 'month', 'day_of_week',\n",
    "            'pdays', 'poutcome']\n",
    "data = pd.get_dummies(data, columns=features)\n",
    "\n",
    "# Label encoding on column \"y\".\n",
    "le = LabelEncoder()\n",
    "data['y'] = le.fit_transform(data['y'])"
   ]
  },
  {
   "cell_type": "code",
   "execution_count": 91,
   "metadata": {},
   "outputs": [
    {
     "data": {
      "text/plain": [
       "<matplotlib.axes._subplots.AxesSubplot at 0x1f77b855b70>"
      ]
     },
     "execution_count": 91,
     "metadata": {},
     "output_type": "execute_result"
    },
    {
     "data": {
      "image/png": "[encoded data removed]",
      "text/plain": [
       "<Figure size 432x288 with 1 Axes>"
      ]
     },
     "metadata": {
      "needs_background": "light"
     },
     "output_type": "display_data"
    }
   ],
   "source": [
    "sns.countplot(x=data['y'], data=data)"
   ]
  },
  {
   "cell_type": "markdown",
   "metadata": {},
   "source": [
    "Below is the plot of the correlation matrix for the data set."
   ]
  },
  {
   "cell_type": "raw",
   "metadata": {},
   "source": [
    "# Correlation matrix.\n",
    "plt.figure(figsize=(15,15))\n",
    "sns.set(font_scale=1.1)\n",
    "sns.heatmap(data.corr(),annot=True, cbar=False, cmap='rainbow',linewidth=0.5, fmt='.2f')\n",
    "plt.title('Correlation matrix');"
   ]
  },
  {
   "cell_type": "markdown",
   "metadata": {},
   "source": [
    "## Part 2: Pre-processing\n",
    "\n",
    "In this part we prepare our data for our models. This means that we choose the columns that will be our independed variables and which column the class that we want to predict. Once we are done with that, we split our data into train and test sets and perfom a standardization upon them."
   ]
  },
  {
   "cell_type": "code",
   "execution_count": 92,
   "metadata": {},
   "outputs": [],
   "source": [
    "# Distinguish attribute columns and class column.\n",
    "X = data.drop(columns=['y'])\n",
    "y = data['y']"
   ]
  },
  {
   "cell_type": "markdown",
   "metadata": {},
   "source": [
    "## Feature selection"
   ]
  },
  {
   "cell_type": "code",
   "execution_count": 93,
   "metadata": {},
   "outputs": [],
   "source": [
    "from sklearn.feature_selection import SelectKBest"
   ]
  },
  {
   "cell_type": "code",
   "execution_count": 94,
   "metadata": {},
   "outputs": [],
   "source": [
    "def find_best_k(X, y, tol=0.001, n_iter_no_change=10, n_clusters=2, verbose=False):\n",
    "    scores = []\n",
    "    n_features = len(X.columns)\n",
    "    no_improvement_counter = 0\n",
    "    best_validation_score_ = -np.inf\n",
    "\n",
    " # Main loop\n",
    "    for kappa in range(1, n_features+1):\n",
    "        X_new = SelectKBest(k=kappa).fit_transform(X, y)\n",
    "        sc = StandardScaler()\n",
    "        sc.fit(X_new)\n",
    "        X_new = sc.transform(X_new)\n",
    "        X_new = pd.DataFrame(X_new)\n",
    "        model = KMeans(n_clusters=2, random_state=25).fit(X_new)\n",
    "        X_new['cluster'] = model.labels_\n",
    "        X_train, X_test, y_train, y_test = train_test_split(\n",
    "            X_new, y, test_size=0.3, random_state=25)\n",
    "        scaler = StandardScaler()\n",
    "        scaler.fit(X_train)\n",
    "        X_train = scaler.fit_transform(X_train)\n",
    "        X_test = scaler.transform(X_test)\n",
    "    # Initialize a Logistic Regression estimator.\n",
    "        logreg = LogisticRegression(\n",
    "            multi_class='auto', random_state=25, n_jobs=-1)\n",
    "    # Train the estimator.\n",
    "        logreg.fit(X_train, y_train)\n",
    "        kappa_score = cross_val_score(logreg, X_new, y, cv=10).mean()\n",
    "        scores.append(kappa_score)\n",
    "        last_valid_score = scores[-1]\n",
    "\n",
    "        if verbose:\n",
    "            print(kappa, no_improvement_counter)\n",
    "            print(scores)\n",
    "\n",
    "        if last_valid_score < (best_validation_score_ + tol):\n",
    "            no_improvement_counter += 1\n",
    "        else:\n",
    "            no_improvement_counter = 0\n",
    "\n",
    "        if last_valid_score > best_validation_score_:\n",
    "            best_validation_score_ = last_valid_score\n",
    "            \n",
    "        if no_improvement_counter > n_iter_no_change:\n",
    "            break\n",
    "\n",
    "    print(\n",
    "        f'kappa: {scores.index(best_validation_score_)+1} with score: {best_validation_score_.round(3)}')"
   ]
  },
  {
   "cell_type": "code",
   "execution_count": 45,
   "metadata": {},
   "outputs": [
    {
     "name": "stdout",
     "output_type": "stream",
     "text": [
      "1 0\n",
      "[0.8924117746776152]\n",
      "2 0\n",
      "[0.8924117746776152, 0.8747529374820026]\n",
      "3 1\n",
      "[0.8924117746776152, 0.8747529374820026, 0.8851002836767154]\n",
      "4 2\n",
      "[0.8924117746776152, 0.8747529374820026, 0.8851002836767154, 0.8851974359031829]\n",
      "5 3\n",
      "[0.8924117746776152, 0.8747529374820026, 0.8851002836767154, 0.8851974359031829, 0.8682676621402887]\n",
      "6 4\n",
      "[0.8924117746776152, 0.8747529374820026, 0.8851002836767154, 0.8851974359031829, 0.8682676621402887, 0.8677090088207923]\n",
      "7 5\n",
      "[0.8924117746776152, 0.8747529374820026, 0.8851002836767154, 0.8851974359031829, 0.8682676621402887, 0.8677090088207923, 0.8673932331182744]\n",
      "8 6\n",
      "[0.8924117746776152, 0.8747529374820026, 0.8851002836767154, 0.8851974359031829, 0.8682676621402887, 0.8677090088207923, 0.8673932331182744, 0.8670532681570144]\n",
      "9 7\n",
      "[0.8924117746776152, 0.8747529374820026, 0.8851002836767154, 0.8851974359031829, 0.8682676621402887, 0.8677090088207923, 0.8673932331182744, 0.8670532681570144, 0.8667861128055849]\n",
      "10 8\n",
      "[0.8924117746776152, 0.8747529374820026, 0.8851002836767154, 0.8851974359031829, 0.8682676621402887, 0.8677090088207923, 0.8673932331182744, 0.8670532681570144, 0.8667861128055849, 0.866810372844894]\n",
      "11 9\n",
      "[0.8924117746776152, 0.8747529374820026, 0.8851002836767154, 0.8851974359031829, 0.8682676621402887, 0.8677090088207923, 0.8673932331182744, 0.8670532681570144, 0.8667861128055849, 0.866810372844894, 0.8641144590188187]\n",
      "12 10\n",
      "[0.8924117746776152, 0.8747529374820026, 0.8851002836767154, 0.8851974359031829, 0.8682676621402887, 0.8677090088207923, 0.8673932331182744, 0.8670532681570144, 0.8667861128055849, 0.866810372844894, 0.8641144590188187, 0.8640658799563946]\n",
      "kappa: 1 with score: 0.892\n"
     ]
    }
   ],
   "source": [
    "find_best_k(X, y, verbose=1)"
   ]
  },
  {
   "cell_type": "code",
   "execution_count": 65,
   "metadata": {},
   "outputs": [],
   "source": [
    "# Best k for cv accuracy: 1"
   ]
  },
  {
   "cell_type": "code",
   "execution_count": 95,
   "metadata": {},
   "outputs": [],
   "source": [
    "X = SelectKBest(k=1).fit_transform(X, y)"
   ]
  },
  {
   "cell_type": "markdown",
   "metadata": {},
   "source": [
    "## Kmeans analysis"
   ]
  },
  {
   "cell_type": "code",
   "execution_count": 96,
   "metadata": {},
   "outputs": [],
   "source": [
    "# Create a k-means model with k=2\n",
    "model = KMeans(n_clusters=2,random_state=25)"
   ]
  },
  {
   "cell_type": "code",
   "execution_count": 97,
   "metadata": {},
   "outputs": [],
   "source": [
    "# Standardization\n",
    "sc = StandardScaler()\n",
    "sc.fit(X)\n",
    "X = sc.transform(X)\n",
    "X = pd.DataFrame(X)"
   ]
  },
  {
   "cell_type": "code",
   "execution_count": 98,
   "metadata": {},
   "outputs": [],
   "source": [
    "X['cluster'] = model.fit_predict(X)"
   ]
  },
  {
   "cell_type": "code",
   "execution_count": 99,
   "metadata": {},
   "outputs": [],
   "source": [
    "# Split to train and test sets.\n",
    "X_train, X_test, y_train, y_test = train_test_split(\n",
    "    X, y, test_size=0.3, random_state=25)"
   ]
  },
  {
   "cell_type": "code",
   "execution_count": 100,
   "metadata": {},
   "outputs": [],
   "source": [
    "# Standardization\n",
    "scaler = StandardScaler()\n",
    "scaler.fit(X_train)\n",
    "X_train = scaler.fit_transform(X_train)\n",
    "X_test = scaler.transform(X_test)"
   ]
  },
  {
   "cell_type": "markdown",
   "metadata": {},
   "source": [
    "## Part 3: Modeling\n",
    "\n",
    "In this section we build and try 3 models:\n",
    " - Logistic Regression\n",
    " - Decision tree\n",
    " - Neural network\n"
   ]
  },
  {
   "cell_type": "markdown",
   "metadata": {},
   "source": [
    "## Logistic Regression"
   ]
  },
  {
   "cell_type": "code",
   "execution_count": 101,
   "metadata": {},
   "outputs": [
    {
     "data": {
      "text/plain": [
       "LogisticRegression(C=1.0, class_weight=None, dual=False, fit_intercept=True,\n",
       "                   intercept_scaling=1, l1_ratio=None, max_iter=100,\n",
       "                   multi_class='auto', n_jobs=-1, penalty='l2', random_state=25,\n",
       "                   solver='lbfgs', tol=0.0001, verbose=0, warm_start=False)"
      ]
     },
     "execution_count": 101,
     "metadata": {},
     "output_type": "execute_result"
    }
   ],
   "source": [
    "# Initialize a Logistic Regression estimator.\n",
    "logreg = LogisticRegression(multi_class='auto', random_state=25, n_jobs=-1)\n",
    "\n",
    "# Train the estimator.\n",
    "logreg.fit(X_train, y_train)"
   ]
  },
  {
   "cell_type": "code",
   "execution_count": 102,
   "metadata": {},
   "outputs": [],
   "source": [
    "# Make predictions.\n",
    "log_pred = logreg.predict(X_test)\n",
    "\n",
    "# CV score for MLP\n",
    "cv_logreg = cross_val_score(logreg, X, y, cv=10).mean()"
   ]
  },
  {
   "cell_type": "markdown",
   "metadata": {},
   "source": [
    "## Metrics for Logistic Regression"
   ]
  },
  {
   "cell_type": "code",
   "execution_count": 103,
   "metadata": {},
   "outputs": [
    {
     "name": "stdout",
     "output_type": "stream",
     "text": [
      "Accuracy: 0.897\n",
      "Cross-validation accuracy: 0.892\n",
      "Precision: 0.597\n",
      "Recall: 0.170\n",
      "F1 score: 0.264\n"
     ]
    }
   ],
   "source": [
    "# Accuracy: 1 is perfect prediction.\n",
    "print('Accuracy: %.3f' % logreg.score(X_test, y_test))\n",
    "\n",
    "# Cross-Validation accuracy\n",
    "print('Cross-validation accuracy: %0.3f' % cv_logreg)\n",
    "\n",
    "# Precision\n",
    "print('Precision: %.3f' % precision_score(y_test, log_pred))\n",
    "\n",
    "# Recall\n",
    "print('Recall: %.3f' % recall_score(y_test, log_pred))\n",
    "\n",
    "# f1 score: best value at 1 (perfect precision and recall) and worst at 0.\n",
    "print('F1 score: %.3f' % f1_score(y_test, log_pred))"
   ]
  },
  {
   "cell_type": "code",
   "execution_count": 104,
   "metadata": {},
   "outputs": [
    {
     "name": "stdout",
     "output_type": "stream",
     "text": [
      "AUC: 0.82\n"
     ]
    }
   ],
   "source": [
    "# Predict probabilities for the test data.\n",
    "logreg_probs = logreg.predict_proba(X_test)\n",
    "\n",
    "# Keep Probabilities of the positive class only.\n",
    "logreg_probs = logreg_probs[:, 1]\n",
    "\n",
    "# Compute the AUC Score.\n",
    "auc_logreg = roc_auc_score(y_test, logreg_probs)\n",
    "print('AUC: %.2f' % auc_logreg)"
   ]
  },
  {
   "cell_type": "markdown",
   "metadata": {},
   "source": [
    "## Confusion matrix for Logistic Regression"
   ]
  },
  {
   "cell_type": "code",
   "execution_count": 105,
   "metadata": {},
   "outputs": [
    {
     "data": {
      "image/png": "[encoded data removed]",
      "text/plain": [
       "<Figure size 432x288 with 1 Axes>"
      ]
     },
     "metadata": {
      "needs_background": "light"
     },
     "output_type": "display_data"
    },
    {
     "data": {
      "text/plain": [
       "<matplotlib.axes._subplots.AxesSubplot at 0x1f77c4552b0>"
      ]
     },
     "execution_count": 105,
     "metadata": {},
     "output_type": "execute_result"
    }
   ],
   "source": [
    "# Print confusion matrix for Logistic Regression.\n",
    "cm = ConfusionMatrix(logreg, is_fitted=True)\n",
    "cm.score(X_test, y_test)\n",
    "cm.poof()"
   ]
  },
  {
   "cell_type": "code",
   "execution_count": 106,
   "metadata": {},
   "outputs": [
    {
     "data": {
      "image/png": "[encoded data removed]",
      "text/plain": [
       "<Figure size 576x576 with 1 Axes>"
      ]
     },
     "metadata": {
      "needs_background": "light"
     },
     "output_type": "display_data"
    }
   ],
   "source": [
    "# Get the ROC curves.\n",
    "logreg_fpr, logreg_tpr, logreg_thresholds = roc_curve(y_test, logreg_probs)\n",
    "\n",
    "# Plot the ROC curves.\n",
    "plt.figure(figsize=(8, 8))\n",
    "plt.plot(logreg_fpr, logreg_tpr, color='black',\n",
    "         label='LogReg ROC (AUC= %0.2f)' % auc_logreg)\n",
    "plt.plot([0, 1], [0, 1], color='darkblue', linestyle='--', label='random')\n",
    "plt.xlabel('False Positive Rate')\n",
    "plt.ylabel('True Positive Rate')\n",
    "plt.title('Receiver Operating Characteristic (ROC) Curve')\n",
    "plt.legend()\n",
    "plt.show()"
   ]
  },
  {
   "cell_type": "markdown",
   "metadata": {},
   "source": [
    "## Decision tree"
   ]
  },
  {
   "cell_type": "code",
   "execution_count": 107,
   "metadata": {},
   "outputs": [
    {
     "data": {
      "text/plain": [
       "DecisionTreeClassifier(ccp_alpha=0.0, class_weight=None, criterion='gini',\n",
       "                       max_depth=30, max_features=None, max_leaf_nodes=None,\n",
       "                       min_impurity_decrease=0.0, min_impurity_split=None,\n",
       "                       min_samples_leaf=1, min_samples_split=2,\n",
       "                       min_weight_fraction_leaf=0.0, presort='deprecated',\n",
       "                       random_state=25, splitter='best')"
      ]
     },
     "execution_count": 107,
     "metadata": {},
     "output_type": "execute_result"
    }
   ],
   "source": [
    "# Initialize a decision tree estimator.\n",
    "tr = tree.DecisionTreeClassifier(max_depth=30, random_state=25)\n",
    "\n",
    "# Train the estimator.\n",
    "tr.fit(X_train, y_train)"
   ]
  },
  {
   "cell_type": "raw",
   "metadata": {},
   "source": [
    "# Plot the tree.\n",
    "\n",
    "os.environ[\"PATH\"] += os.pathsep + 'C:/Program Files (x86)/Graphviz2.38/bin/'\n",
    "\n",
    "dot_data = tree.export_graphviz(tr, out_file=None, feature_names=X.columns, filled=True, rounded=True, special_characters=True)  \n",
    "graph = graphviz.Source(dot_data)  \n",
    "graph "
   ]
  },
  {
   "cell_type": "raw",
   "metadata": {},
   "source": [
    "# Plot the tree.\n",
    "fig = plt.figure(figsize=(23, 15))\n",
    "tree.plot_tree(tr.fit(X_train, y_train), feature_names=X.columns,\n",
    "               filled=True, rounded=True, fontsize=16)\n",
    "plt.title('Decision Tree')"
   ]
  },
  {
   "cell_type": "code",
   "execution_count": 108,
   "metadata": {},
   "outputs": [
    {
     "name": "stdout",
     "output_type": "stream",
     "text": [
      "|--- 0 <= 1.02\n",
      "|   |--- 0 <= -0.20\n",
      "|   |   |--- 0 <= -0.50\n",
      "|   |   |   |--- 0 <= -0.68\n",
      "|   |   |   |   |--- 0 <= -0.75\n",
      "|   |   |   |   |   |--- class: 0\n",
      "|   |   |   |   |--- 0 >  -0.75\n",
      "|   |   |   |   |   |--- 0 <= -0.75\n",
      "|   |   |   |   |   |   |--- class: 0\n",
      "|   |   |   |   |   |--- 0 >  -0.75\n",
      "|   |   |   |   |   |   |--- 0 <= -0.70\n",
      "|   |   |   |   |   |   |   |--- 0 <= -0.72\n",
      "|   |   |   |   |   |   |   |   |--- 0 <= -0.75\n",
      "|   |   |   |   |   |   |   |   |   |--- class: 0\n",
      "|   |   |   |   |   |   |   |   |--- 0 >  -0.75\n",
      "|   |   |   |   |   |   |   |   |   |--- 0 <= -0.73\n",
      "|   |   |   |   |   |   |   |   |   |   |--- class: 0\n",
      "|   |   |   |   |   |   |   |   |   |--- 0 >  -0.73\n",
      "|   |   |   |   |   |   |   |   |   |   |--- 0 <= -0.73\n",
      "|   |   |   |   |   |   |   |   |   |   |   |--- class: 0\n",
      "|   |   |   |   |   |   |   |   |   |   |--- 0 >  -0.73\n",
      "|   |   |   |   |   |   |   |   |   |   |   |--- class: 0\n",
      "|   |   |   |   |   |   |   |--- 0 >  -0.72\n",
      "|   |   |   |   |   |   |   |   |--- 0 <= -0.71\n",
      "|   |   |   |   |   |   |   |   |   |--- 0 <= -0.71\n",
      "|   |   |   |   |   |   |   |   |   |   |--- class: 0\n",
      "|   |   |   |   |   |   |   |   |   |--- 0 >  -0.71\n",
      "|   |   |   |   |   |   |   |   |   |   |--- class: 0\n",
      "|   |   |   |   |   |   |   |   |--- 0 >  -0.71\n",
      "|   |   |   |   |   |   |   |   |   |--- 0 <= -0.70\n",
      "|   |   |   |   |   |   |   |   |   |   |--- 0 <= -0.70\n",
      "|   |   |   |   |   |   |   |   |   |   |   |--- class: 0\n",
      "|   |   |   |   |   |   |   |   |   |   |--- 0 >  -0.70\n",
      "|   |   |   |   |   |   |   |   |   |   |   |--- class: 0\n",
      "|   |   |   |   |   |   |   |   |   |--- 0 >  -0.70\n",
      "|   |   |   |   |   |   |   |   |   |   |--- class: 0\n",
      "|   |   |   |   |   |   |--- 0 >  -0.70\n",
      "|   |   |   |   |   |   |   |--- 0 <= -0.69\n",
      "|   |   |   |   |   |   |   |   |--- class: 0\n",
      "|   |   |   |   |   |   |   |--- 0 >  -0.69\n",
      "|   |   |   |   |   |   |   |   |--- 0 <= -0.69\n",
      "|   |   |   |   |   |   |   |   |   |--- class: 0\n",
      "|   |   |   |   |   |   |   |   |--- 0 >  -0.69\n",
      "|   |   |   |   |   |   |   |   |   |--- 0 <= -0.69\n",
      "|   |   |   |   |   |   |   |   |   |   |--- class: 0\n",
      "|   |   |   |   |   |   |   |   |   |--- 0 >  -0.69\n",
      "|   |   |   |   |   |   |   |   |   |   |--- class: 0\n",
      "|   |   |   |--- 0 >  -0.68\n",
      "|   |   |   |   |--- 0 <= -0.63\n",
      "|   |   |   |   |   |--- 0 <= -0.64\n",
      "|   |   |   |   |   |   |--- 0 <= -0.65\n",
      "|   |   |   |   |   |   |   |--- 0 <= -0.67\n",
      "|   |   |   |   |   |   |   |   |--- 0 <= -0.68\n",
      "|   |   |   |   |   |   |   |   |   |--- class: 0\n",
      "|   |   |   |   |   |   |   |   |--- 0 >  -0.68\n",
      "|   |   |   |   |   |   |   |   |   |--- 0 <= -0.67\n",
      "|   |   |   |   |   |   |   |   |   |   |--- class: 0\n",
      "|   |   |   |   |   |   |   |   |   |--- 0 >  -0.67\n",
      "|   |   |   |   |   |   |   |   |   |   |--- class: 0\n",
      "|   |   |   |   |   |   |   |--- 0 >  -0.67\n",
      "|   |   |   |   |   |   |   |   |--- 0 <= -0.65\n",
      "|   |   |   |   |   |   |   |   |   |--- 0 <= -0.66\n",
      "|   |   |   |   |   |   |   |   |   |   |--- 0 <= -0.66\n",
      "|   |   |   |   |   |   |   |   |   |   |   |--- truncated branch of depth 2\n",
      "|   |   |   |   |   |   |   |   |   |   |--- 0 >  -0.66\n",
      "|   |   |   |   |   |   |   |   |   |   |   |--- class: 0\n",
      "|   |   |   |   |   |   |   |   |   |--- 0 >  -0.66\n",
      "|   |   |   |   |   |   |   |   |   |   |--- class: 0\n",
      "|   |   |   |   |   |   |   |   |--- 0 >  -0.65\n",
      "|   |   |   |   |   |   |   |   |   |--- 0 <= -0.65\n",
      "|   |   |   |   |   |   |   |   |   |   |--- class: 0\n",
      "|   |   |   |   |   |   |   |   |   |--- 0 >  -0.65\n",
      "|   |   |   |   |   |   |   |   |   |   |--- class: 0\n",
      "|   |   |   |   |   |   |--- 0 >  -0.65\n",
      "|   |   |   |   |   |   |   |--- class: 0\n",
      "|   |   |   |   |   |--- 0 >  -0.64\n",
      "|   |   |   |   |   |   |--- 0 <= -0.64\n",
      "|   |   |   |   |   |   |   |--- 0 <= -0.64\n",
      "|   |   |   |   |   |   |   |   |--- class: 0\n",
      "|   |   |   |   |   |   |   |--- 0 >  -0.64\n",
      "|   |   |   |   |   |   |   |   |--- class: 0\n",
      "|   |   |   |   |   |   |--- 0 >  -0.64\n",
      "|   |   |   |   |   |   |   |--- class: 0\n",
      "|   |   |   |   |--- 0 >  -0.63\n",
      "|   |   |   |   |   |--- 0 <= -0.56\n",
      "|   |   |   |   |   |   |--- 0 <= -0.58\n",
      "|   |   |   |   |   |   |   |--- 0 <= -0.59\n",
      "|   |   |   |   |   |   |   |   |--- 0 <= -0.62\n",
      "|   |   |   |   |   |   |   |   |   |--- 0 <= -0.62\n",
      "|   |   |   |   |   |   |   |   |   |   |--- 0 <= -0.63\n",
      "|   |   |   |   |   |   |   |   |   |   |   |--- class: 0\n",
      "|   |   |   |   |   |   |   |   |   |   |--- 0 >  -0.63\n",
      "|   |   |   |   |   |   |   |   |   |   |   |--- class: 0\n",
      "|   |   |   |   |   |   |   |   |   |--- 0 >  -0.62\n",
      "|   |   |   |   |   |   |   |   |   |   |--- 0 <= -0.62\n",
      "|   |   |   |   |   |   |   |   |   |   |   |--- class: 0\n",
      "|   |   |   |   |   |   |   |   |   |   |--- 0 >  -0.62\n",
      "|   |   |   |   |   |   |   |   |   |   |   |--- class: 0\n",
      "|   |   |   |   |   |   |   |   |--- 0 >  -0.62\n",
      "|   |   |   |   |   |   |   |   |   |--- 0 <= -0.60\n",
      "|   |   |   |   |   |   |   |   |   |   |--- 0 <= -0.60\n",
      "|   |   |   |   |   |   |   |   |   |   |   |--- truncated branch of depth 3\n",
      "|   |   |   |   |   |   |   |   |   |   |--- 0 >  -0.60\n",
      "|   |   |   |   |   |   |   |   |   |   |   |--- truncated branch of depth 2\n",
      "|   |   |   |   |   |   |   |   |   |--- 0 >  -0.60\n",
      "|   |   |   |   |   |   |   |   |   |   |--- 0 <= -0.59\n",
      "|   |   |   |   |   |   |   |   |   |   |   |--- class: 0\n",
      "|   |   |   |   |   |   |   |   |   |   |--- 0 >  -0.59\n",
      "|   |   |   |   |   |   |   |   |   |   |   |--- class: 0\n",
      "|   |   |   |   |   |   |   |--- 0 >  -0.59\n",
      "|   |   |   |   |   |   |   |   |--- 0 <= -0.59\n",
      "|   |   |   |   |   |   |   |   |   |--- class: 0\n",
      "|   |   |   |   |   |   |   |   |--- 0 >  -0.59\n",
      "|   |   |   |   |   |   |   |   |   |--- class: 0\n",
      "|   |   |   |   |   |   |--- 0 >  -0.58\n",
      "|   |   |   |   |   |   |   |--- 0 <= -0.57\n",
      "|   |   |   |   |   |   |   |   |--- 0 <= -0.58\n",
      "|   |   |   |   |   |   |   |   |   |--- class: 0\n",
      "|   |   |   |   |   |   |   |   |--- 0 >  -0.58\n",
      "|   |   |   |   |   |   |   |   |   |--- class: 0\n",
      "|   |   |   |   |   |   |   |--- 0 >  -0.57\n",
      "|   |   |   |   |   |   |   |   |--- 0 <= -0.56\n",
      "|   |   |   |   |   |   |   |   |   |--- 0 <= -0.57\n",
      "|   |   |   |   |   |   |   |   |   |   |--- 0 <= -0.57\n",
      "|   |   |   |   |   |   |   |   |   |   |   |--- class: 0\n",
      "|   |   |   |   |   |   |   |   |   |   |--- 0 >  -0.57\n",
      "|   |   |   |   |   |   |   |   |   |   |   |--- class: 0\n",
      "|   |   |   |   |   |   |   |   |   |--- 0 >  -0.57\n",
      "|   |   |   |   |   |   |   |   |   |   |--- class: 0\n",
      "|   |   |   |   |   |   |   |   |--- 0 >  -0.56\n",
      "|   |   |   |   |   |   |   |   |   |--- class: 0\n",
      "|   |   |   |   |   |--- 0 >  -0.56\n",
      "|   |   |   |   |   |   |--- 0 <= -0.54\n",
      "|   |   |   |   |   |   |   |--- 0 <= -0.54\n",
      "|   |   |   |   |   |   |   |   |--- 0 <= -0.55\n",
      "|   |   |   |   |   |   |   |   |   |--- class: 0\n",
      "|   |   |   |   |   |   |   |   |--- 0 >  -0.55\n",
      "|   |   |   |   |   |   |   |   |   |--- 0 <= -0.55\n",
      "|   |   |   |   |   |   |   |   |   |   |--- class: 0\n",
      "|   |   |   |   |   |   |   |   |   |--- 0 >  -0.55\n",
      "|   |   |   |   |   |   |   |   |   |   |--- 0 <= -0.55\n",
      "|   |   |   |   |   |   |   |   |   |   |   |--- class: 0\n",
      "|   |   |   |   |   |   |   |   |   |   |--- 0 >  -0.55\n",
      "|   |   |   |   |   |   |   |   |   |   |   |--- class: 0\n",
      "|   |   |   |   |   |   |   |--- 0 >  -0.54\n",
      "|   |   |   |   |   |   |   |   |--- 0 <= -0.54\n",
      "|   |   |   |   |   |   |   |   |   |--- class: 0\n",
      "|   |   |   |   |   |   |   |   |--- 0 >  -0.54\n",
      "|   |   |   |   |   |   |   |   |   |--- class: 0\n",
      "|   |   |   |   |   |   |--- 0 >  -0.54\n",
      "|   |   |   |   |   |   |   |--- 0 <= -0.52\n",
      "|   |   |   |   |   |   |   |   |--- 0 <= -0.52\n",
      "|   |   |   |   |   |   |   |   |   |--- 0 <= -0.53\n",
      "|   |   |   |   |   |   |   |   |   |   |--- class: 0\n",
      "|   |   |   |   |   |   |   |   |   |--- 0 >  -0.53\n",
      "|   |   |   |   |   |   |   |   |   |   |--- 0 <= -0.53\n",
      "|   |   |   |   |   |   |   |   |   |   |   |--- class: 0\n",
      "|   |   |   |   |   |   |   |   |   |   |--- 0 >  -0.53\n",
      "|   |   |   |   |   |   |   |   |   |   |   |--- class: 0\n",
      "|   |   |   |   |   |   |   |   |--- 0 >  -0.52\n",
      "|   |   |   |   |   |   |   |   |   |--- 0 <= -0.52\n",
      "|   |   |   |   |   |   |   |   |   |   |--- class: 0\n",
      "|   |   |   |   |   |   |   |   |   |--- 0 >  -0.52\n",
      "|   |   |   |   |   |   |   |   |   |   |--- class: 0\n",
      "|   |   |   |   |   |   |   |--- 0 >  -0.52\n",
      "|   |   |   |   |   |   |   |   |--- 0 <= -0.51\n",
      "|   |   |   |   |   |   |   |   |   |--- 0 <= -0.51\n",
      "|   |   |   |   |   |   |   |   |   |   |--- class: 0\n",
      "|   |   |   |   |   |   |   |   |   |--- 0 >  -0.51\n",
      "|   |   |   |   |   |   |   |   |   |   |--- class: 0\n",
      "|   |   |   |   |   |   |   |   |--- 0 >  -0.51\n",
      "|   |   |   |   |   |   |   |   |   |--- 0 <= -0.50\n",
      "|   |   |   |   |   |   |   |   |   |   |--- class: 0\n",
      "|   |   |   |   |   |   |   |   |   |--- 0 >  -0.50\n",
      "|   |   |   |   |   |   |   |   |   |   |--- 0 <= -0.50\n",
      "|   |   |   |   |   |   |   |   |   |   |   |--- class: 0\n",
      "|   |   |   |   |   |   |   |   |   |   |--- 0 >  -0.50\n",
      "|   |   |   |   |   |   |   |   |   |   |   |--- class: 0\n",
      "|   |   |--- 0 >  -0.50\n",
      "|   |   |   |--- 0 <= -0.33\n",
      "|   |   |   |   |--- 0 <= -0.40\n",
      "|   |   |   |   |   |--- 0 <= -0.42\n",
      "|   |   |   |   |   |   |--- 0 <= -0.42\n",
      "|   |   |   |   |   |   |   |--- 0 <= -0.49\n",
      "|   |   |   |   |   |   |   |   |--- 0 <= -0.49\n",
      "|   |   |   |   |   |   |   |   |   |--- class: 0\n",
      "|   |   |   |   |   |   |   |   |--- 0 >  -0.49\n",
      "|   |   |   |   |   |   |   |   |   |--- class: 0\n",
      "|   |   |   |   |   |   |   |--- 0 >  -0.49\n",
      "|   |   |   |   |   |   |   |   |--- 0 <= -0.48\n",
      "|   |   |   |   |   |   |   |   |   |--- 0 <= -0.49\n",
      "|   |   |   |   |   |   |   |   |   |   |--- class: 0\n",
      "|   |   |   |   |   |   |   |   |   |--- 0 >  -0.49\n",
      "|   |   |   |   |   |   |   |   |   |   |--- 0 <= -0.48\n",
      "|   |   |   |   |   |   |   |   |   |   |   |--- class: 0\n",
      "|   |   |   |   |   |   |   |   |   |   |--- 0 >  -0.48\n",
      "|   |   |   |   |   |   |   |   |   |   |   |--- class: 0\n",
      "|   |   |   |   |   |   |   |   |--- 0 >  -0.48\n",
      "|   |   |   |   |   |   |   |   |   |--- 0 <= -0.46\n",
      "|   |   |   |   |   |   |   |   |   |   |--- 0 <= -0.46\n",
      "|   |   |   |   |   |   |   |   |   |   |   |--- truncated branch of depth 4\n",
      "|   |   |   |   |   |   |   |   |   |   |--- 0 >  -0.46\n",
      "|   |   |   |   |   |   |   |   |   |   |   |--- class: 0\n",
      "|   |   |   |   |   |   |   |   |   |--- 0 >  -0.46\n",
      "|   |   |   |   |   |   |   |   |   |   |--- 0 <= -0.44\n",
      "|   |   |   |   |   |   |   |   |   |   |   |--- truncated branch of depth 4\n",
      "|   |   |   |   |   |   |   |   |   |   |--- 0 >  -0.44\n",
      "|   |   |   |   |   |   |   |   |   |   |   |--- truncated branch of depth 5\n",
      "|   |   |   |   |   |   |--- 0 >  -0.42\n",
      "|   |   |   |   |   |   |   |--- 0 <= -0.42\n",
      "|   |   |   |   |   |   |   |   |--- class: 0\n",
      "|   |   |   |   |   |   |   |--- 0 >  -0.42\n",
      "|   |   |   |   |   |   |   |   |--- class: 0\n",
      "|   |   |   |   |   |--- 0 >  -0.42\n",
      "|   |   |   |   |   |   |--- 0 <= -0.40\n",
      "|   |   |   |   |   |   |   |--- 0 <= -0.41\n",
      "|   |   |   |   |   |   |   |   |--- class: 0\n",
      "|   |   |   |   |   |   |   |--- 0 >  -0.41\n",
      "|   |   |   |   |   |   |   |   |--- 0 <= -0.41\n",
      "|   |   |   |   |   |   |   |   |   |--- class: 0\n",
      "|   |   |   |   |   |   |   |   |--- 0 >  -0.41\n",
      "|   |   |   |   |   |   |   |   |   |--- class: 0\n",
      "|   |   |   |   |   |   |--- 0 >  -0.40\n",
      "|   |   |   |   |   |   |   |--- 0 <= -0.40\n",
      "|   |   |   |   |   |   |   |   |--- class: 0\n",
      "|   |   |   |   |   |   |   |--- 0 >  -0.40\n",
      "|   |   |   |   |   |   |   |   |--- class: 0\n",
      "|   |   |   |   |--- 0 >  -0.40\n",
      "|   |   |   |   |   |--- 0 <= -0.34\n",
      "|   |   |   |   |   |   |--- 0 <= -0.35\n",
      "|   |   |   |   |   |   |   |--- 0 <= -0.39\n",
      "|   |   |   |   |   |   |   |   |--- class: 0\n",
      "|   |   |   |   |   |   |   |--- 0 >  -0.39\n",
      "|   |   |   |   |   |   |   |   |--- 0 <= -0.39\n",
      "|   |   |   |   |   |   |   |   |   |--- class: 0\n",
      "|   |   |   |   |   |   |   |   |--- 0 >  -0.39\n",
      "|   |   |   |   |   |   |   |   |   |--- 0 <= -0.35\n",
      "|   |   |   |   |   |   |   |   |   |   |--- 0 <= -0.35\n",
      "|   |   |   |   |   |   |   |   |   |   |   |--- truncated branch of depth 7\n",
      "|   |   |   |   |   |   |   |   |   |   |--- 0 >  -0.35\n",
      "|   |   |   |   |   |   |   |   |   |   |   |--- class: 0\n",
      "|   |   |   |   |   |   |   |   |   |--- 0 >  -0.35\n",
      "|   |   |   |   |   |   |   |   |   |   |--- class: 0\n",
      "|   |   |   |   |   |   |--- 0 >  -0.35\n",
      "|   |   |   |   |   |   |   |--- 0 <= -0.34\n",
      "|   |   |   |   |   |   |   |   |--- class: 0\n",
      "|   |   |   |   |   |   |   |--- 0 >  -0.34\n",
      "|   |   |   |   |   |   |   |   |--- class: 0\n",
      "|   |   |   |   |   |--- 0 >  -0.34\n",
      "|   |   |   |   |   |   |--- 0 <= -0.34\n",
      "|   |   |   |   |   |   |   |--- class: 0\n",
      "|   |   |   |   |   |   |--- 0 >  -0.34\n",
      "|   |   |   |   |   |   |   |--- class: 0\n",
      "|   |   |   |--- 0 >  -0.33\n",
      "|   |   |   |   |--- 0 <= -0.29\n",
      "|   |   |   |   |   |--- 0 <= -0.30\n",
      "|   |   |   |   |   |   |--- 0 <= -0.30\n",
      "|   |   |   |   |   |   |   |--- 0 <= -0.33\n",
      "|   |   |   |   |   |   |   |   |--- class: 0\n",
      "|   |   |   |   |   |   |   |--- 0 >  -0.33\n",
      "|   |   |   |   |   |   |   |   |--- 0 <= -0.32\n",
      "|   |   |   |   |   |   |   |   |   |--- class: 0\n",
      "|   |   |   |   |   |   |   |   |--- 0 >  -0.32\n",
      "|   |   |   |   |   |   |   |   |   |--- 0 <= -0.32\n",
      "|   |   |   |   |   |   |   |   |   |   |--- class: 0\n",
      "|   |   |   |   |   |   |   |   |   |--- 0 >  -0.32\n",
      "|   |   |   |   |   |   |   |   |   |   |--- 0 <= -0.32\n",
      "|   |   |   |   |   |   |   |   |   |   |   |--- class: 0\n",
      "|   |   |   |   |   |   |   |   |   |   |--- 0 >  -0.32\n",
      "|   |   |   |   |   |   |   |   |   |   |   |--- truncated branch of depth 3\n",
      "|   |   |   |   |   |   |--- 0 >  -0.30\n",
      "|   |   |   |   |   |   |   |--- 0 <= -0.30\n",
      "|   |   |   |   |   |   |   |   |--- class: 0\n",
      "|   |   |   |   |   |   |   |--- 0 >  -0.30\n",
      "|   |   |   |   |   |   |   |   |--- class: 0\n",
      "|   |   |   |   |   |--- 0 >  -0.30\n",
      "|   |   |   |   |   |   |--- class: 0\n",
      "|   |   |   |   |--- 0 >  -0.29\n",
      "|   |   |   |   |   |--- 0 <= -0.26\n",
      "|   |   |   |   |   |   |--- 0 <= -0.27\n",
      "|   |   |   |   |   |   |   |--- 0 <= -0.29\n",
      "|   |   |   |   |   |   |   |   |--- 0 <= -0.29\n",
      "|   |   |   |   |   |   |   |   |   |--- class: 0\n",
      "|   |   |   |   |   |   |   |   |--- 0 >  -0.29\n",
      "|   |   |   |   |   |   |   |   |   |--- class: 0\n",
      "|   |   |   |   |   |   |   |--- 0 >  -0.29\n",
      "|   |   |   |   |   |   |   |   |--- 0 <= -0.28\n",
      "|   |   |   |   |   |   |   |   |   |--- 0 <= -0.28\n",
      "|   |   |   |   |   |   |   |   |   |   |--- class: 0\n",
      "|   |   |   |   |   |   |   |   |   |--- 0 >  -0.28\n",
      "|   |   |   |   |   |   |   |   |   |   |--- class: 0\n",
      "|   |   |   |   |   |   |   |   |--- 0 >  -0.28\n",
      "|   |   |   |   |   |   |   |   |   |--- class: 0\n",
      "|   |   |   |   |   |   |--- 0 >  -0.27\n",
      "|   |   |   |   |   |   |   |--- 0 <= -0.27\n",
      "|   |   |   |   |   |   |   |   |--- 0 <= -0.27\n",
      "|   |   |   |   |   |   |   |   |   |--- class: 0\n",
      "|   |   |   |   |   |   |   |   |--- 0 >  -0.27\n",
      "|   |   |   |   |   |   |   |   |   |--- class: 0\n",
      "|   |   |   |   |   |   |   |--- 0 >  -0.27\n",
      "|   |   |   |   |   |   |   |   |--- 0 <= -0.26\n",
      "|   |   |   |   |   |   |   |   |   |--- class: 0\n",
      "|   |   |   |   |   |   |   |   |--- 0 >  -0.26\n",
      "|   |   |   |   |   |   |   |   |   |--- class: 0\n",
      "|   |   |   |   |   |--- 0 >  -0.26\n",
      "|   |   |   |   |   |   |--- 0 <= -0.25\n",
      "|   |   |   |   |   |   |   |--- 0 <= -0.25\n",
      "|   |   |   |   |   |   |   |   |--- class: 0\n",
      "|   |   |   |   |   |   |   |--- 0 >  -0.25\n",
      "|   |   |   |   |   |   |   |   |--- 0 <= -0.25\n",
      "|   |   |   |   |   |   |   |   |   |--- class: 0\n",
      "|   |   |   |   |   |   |   |   |--- 0 >  -0.25\n",
      "|   |   |   |   |   |   |   |   |   |--- class: 0\n",
      "|   |   |   |   |   |   |--- 0 >  -0.25\n",
      "|   |   |   |   |   |   |   |--- 0 <= -0.23\n",
      "|   |   |   |   |   |   |   |   |--- 0 <= -0.24\n",
      "|   |   |   |   |   |   |   |   |   |--- 0 <= -0.24\n",
      "|   |   |   |   |   |   |   |   |   |   |--- class: 0\n",
      "|   |   |   |   |   |   |   |   |   |--- 0 >  -0.24\n",
      "|   |   |   |   |   |   |   |   |   |   |--- class: 0\n",
      "|   |   |   |   |   |   |   |   |--- 0 >  -0.24\n",
      "|   |   |   |   |   |   |   |   |   |--- 0 <= -0.24\n",
      "|   |   |   |   |   |   |   |   |   |   |--- class: 0\n",
      "|   |   |   |   |   |   |   |   |   |--- 0 >  -0.24\n",
      "|   |   |   |   |   |   |   |   |   |   |--- 0 <= -0.23\n",
      "|   |   |   |   |   |   |   |   |   |   |   |--- class: 0\n",
      "|   |   |   |   |   |   |   |   |   |   |--- 0 >  -0.23\n",
      "|   |   |   |   |   |   |   |   |   |   |   |--- class: 0\n",
      "|   |   |   |   |   |   |   |--- 0 >  -0.23\n",
      "|   |   |   |   |   |   |   |   |--- 0 <= -0.22\n",
      "|   |   |   |   |   |   |   |   |   |--- class: 0\n",
      "|   |   |   |   |   |   |   |   |--- 0 >  -0.22\n",
      "|   |   |   |   |   |   |   |   |   |--- 0 <= -0.22\n",
      "|   |   |   |   |   |   |   |   |   |   |--- class: 0\n",
      "|   |   |   |   |   |   |   |   |   |--- 0 >  -0.22\n",
      "|   |   |   |   |   |   |   |   |   |   |--- 0 <= -0.21\n",
      "|   |   |   |   |   |   |   |   |   |   |   |--- truncated branch of depth 2\n",
      "|   |   |   |   |   |   |   |   |   |   |--- 0 >  -0.21\n",
      "|   |   |   |   |   |   |   |   |   |   |   |--- truncated branch of depth 3\n",
      "|   |--- 0 >  -0.20\n",
      "|   |   |--- 0 <= 0.52\n",
      "|   |   |   |--- 0 <= 0.03\n",
      "|   |   |   |   |--- 0 <= -0.19\n",
      "|   |   |   |   |   |--- 0 <= -0.19\n",
      "|   |   |   |   |   |   |--- 0 <= -0.20\n",
      "|   |   |   |   |   |   |   |--- class: 0\n",
      "|   |   |   |   |   |   |--- 0 >  -0.20\n",
      "|   |   |   |   |   |   |   |--- class: 0\n",
      "|   |   |   |   |   |--- 0 >  -0.19\n",
      "|   |   |   |   |   |   |--- 0 <= -0.19\n",
      "|   |   |   |   |   |   |   |--- class: 0\n",
      "|   |   |   |   |   |   |--- 0 >  -0.19\n",
      "|   |   |   |   |   |   |   |--- class: 0\n",
      "|   |   |   |   |--- 0 >  -0.19\n",
      "|   |   |   |   |   |--- 0 <= -0.03\n",
      "|   |   |   |   |   |   |--- 0 <= -0.09\n",
      "|   |   |   |   |   |   |   |--- 0 <= -0.14\n",
      "|   |   |   |   |   |   |   |   |--- 0 <= -0.16\n",
      "|   |   |   |   |   |   |   |   |   |--- 0 <= -0.17\n",
      "|   |   |   |   |   |   |   |   |   |   |--- 0 <= -0.17\n",
      "|   |   |   |   |   |   |   |   |   |   |   |--- truncated branch of depth 3\n",
      "|   |   |   |   |   |   |   |   |   |   |--- 0 >  -0.17\n",
      "|   |   |   |   |   |   |   |   |   |   |   |--- class: 0\n",
      "|   |   |   |   |   |   |   |   |   |--- 0 >  -0.17\n",
      "|   |   |   |   |   |   |   |   |   |   |--- 0 <= -0.17\n",
      "|   |   |   |   |   |   |   |   |   |   |   |--- class: 0\n",
      "|   |   |   |   |   |   |   |   |   |   |--- 0 >  -0.17\n",
      "|   |   |   |   |   |   |   |   |   |   |   |--- class: 0\n",
      "|   |   |   |   |   |   |   |   |--- 0 >  -0.16\n",
      "|   |   |   |   |   |   |   |   |   |--- 0 <= -0.16\n",
      "|   |   |   |   |   |   |   |   |   |   |--- class: 0\n",
      "|   |   |   |   |   |   |   |   |   |--- 0 >  -0.16\n",
      "|   |   |   |   |   |   |   |   |   |   |--- 0 <= -0.14\n",
      "|   |   |   |   |   |   |   |   |   |   |   |--- truncated branch of depth 3\n",
      "|   |   |   |   |   |   |   |   |   |   |--- 0 >  -0.14\n",
      "|   |   |   |   |   |   |   |   |   |   |   |--- truncated branch of depth 2\n",
      "|   |   |   |   |   |   |   |--- 0 >  -0.14\n",
      "|   |   |   |   |   |   |   |   |--- 0 <= -0.11\n",
      "|   |   |   |   |   |   |   |   |   |--- 0 <= -0.13\n",
      "|   |   |   |   |   |   |   |   |   |   |--- 0 <= -0.13\n",
      "|   |   |   |   |   |   |   |   |   |   |   |--- class: 0\n",
      "|   |   |   |   |   |   |   |   |   |   |--- 0 >  -0.13\n",
      "|   |   |   |   |   |   |   |   |   |   |   |--- class: 0\n",
      "|   |   |   |   |   |   |   |   |   |--- 0 >  -0.13\n",
      "|   |   |   |   |   |   |   |   |   |   |--- 0 <= -0.12\n",
      "|   |   |   |   |   |   |   |   |   |   |   |--- class: 0\n",
      "|   |   |   |   |   |   |   |   |   |   |--- 0 >  -0.12\n",
      "|   |   |   |   |   |   |   |   |   |   |   |--- truncated branch of depth 3\n",
      "|   |   |   |   |   |   |   |   |--- 0 >  -0.11\n",
      "|   |   |   |   |   |   |   |   |   |--- 0 <= -0.11\n",
      "|   |   |   |   |   |   |   |   |   |   |--- class: 0\n",
      "|   |   |   |   |   |   |   |   |   |--- 0 >  -0.11\n",
      "|   |   |   |   |   |   |   |   |   |   |--- 0 <= -0.10\n",
      "|   |   |   |   |   |   |   |   |   |   |   |--- truncated branch of depth 2\n",
      "|   |   |   |   |   |   |   |   |   |   |--- 0 >  -0.10\n",
      "|   |   |   |   |   |   |   |   |   |   |   |--- truncated branch of depth 2\n",
      "|   |   |   |   |   |   |--- 0 >  -0.09\n",
      "|   |   |   |   |   |   |   |--- 0 <= -0.07\n",
      "|   |   |   |   |   |   |   |   |--- 0 <= -0.07\n",
      "|   |   |   |   |   |   |   |   |   |--- 0 <= -0.08\n",
      "|   |   |   |   |   |   |   |   |   |   |--- 0 <= -0.09\n",
      "|   |   |   |   |   |   |   |   |   |   |   |--- class: 0\n",
      "|   |   |   |   |   |   |   |   |   |   |--- 0 >  -0.09\n",
      "|   |   |   |   |   |   |   |   |   |   |   |--- truncated branch of depth 2\n",
      "|   |   |   |   |   |   |   |   |   |--- 0 >  -0.08\n",
      "|   |   |   |   |   |   |   |   |   |   |--- 0 <= -0.08\n",
      "|   |   |   |   |   |   |   |   |   |   |   |--- class: 0\n",
      "|   |   |   |   |   |   |   |   |   |   |--- 0 >  -0.08\n",
      "|   |   |   |   |   |   |   |   |   |   |   |--- class: 0\n",
      "|   |   |   |   |   |   |   |   |--- 0 >  -0.07\n",
      "|   |   |   |   |   |   |   |   |   |--- 0 <= -0.07\n",
      "|   |   |   |   |   |   |   |   |   |   |--- class: 0\n",
      "|   |   |   |   |   |   |   |   |   |--- 0 >  -0.07\n",
      "|   |   |   |   |   |   |   |   |   |   |--- class: 0\n",
      "|   |   |   |   |   |   |   |--- 0 >  -0.07\n",
      "|   |   |   |   |   |   |   |   |--- 0 <= -0.05\n",
      "|   |   |   |   |   |   |   |   |   |--- 0 <= -0.05\n",
      "|   |   |   |   |   |   |   |   |   |   |--- 0 <= -0.06\n",
      "|   |   |   |   |   |   |   |   |   |   |   |--- class: 0\n",
      "|   |   |   |   |   |   |   |   |   |   |--- 0 >  -0.06\n",
      "|   |   |   |   |   |   |   |   |   |   |   |--- truncated branch of depth 2\n",
      "|   |   |   |   |   |   |   |   |   |--- 0 >  -0.05\n",
      "|   |   |   |   |   |   |   |   |   |   |--- class: 0\n",
      "|   |   |   |   |   |   |   |   |--- 0 >  -0.05\n",
      "|   |   |   |   |   |   |   |   |   |--- 0 <= -0.04\n",
      "|   |   |   |   |   |   |   |   |   |   |--- 0 <= -0.04\n",
      "|   |   |   |   |   |   |   |   |   |   |   |--- truncated branch of depth 3\n",
      "|   |   |   |   |   |   |   |   |   |   |--- 0 >  -0.04\n",
      "|   |   |   |   |   |   |   |   |   |   |   |--- class: 0\n",
      "|   |   |   |   |   |   |   |   |   |--- 0 >  -0.04\n",
      "|   |   |   |   |   |   |   |   |   |   |--- class: 0\n",
      "|   |   |   |   |   |--- 0 >  -0.03\n",
      "|   |   |   |   |   |   |--- 0 <= -0.02\n",
      "|   |   |   |   |   |   |   |--- 0 <= -0.02\n",
      "|   |   |   |   |   |   |   |   |--- 0 <= -0.03\n",
      "|   |   |   |   |   |   |   |   |   |--- class: 0\n",
      "|   |   |   |   |   |   |   |   |--- 0 >  -0.03\n",
      "|   |   |   |   |   |   |   |   |   |--- class: 0\n",
      "|   |   |   |   |   |   |   |--- 0 >  -0.02\n",
      "|   |   |   |   |   |   |   |   |--- class: 0\n",
      "|   |   |   |   |   |   |--- 0 >  -0.02\n",
      "|   |   |   |   |   |   |   |--- 0 <= 0.02\n",
      "|   |   |   |   |   |   |   |   |--- 0 <= 0.00\n",
      "|   |   |   |   |   |   |   |   |   |--- 0 <= -0.00\n",
      "|   |   |   |   |   |   |   |   |   |   |--- 0 <= -0.02\n",
      "|   |   |   |   |   |   |   |   |   |   |   |--- class: 0\n",
      "|   |   |   |   |   |   |   |   |   |   |--- 0 >  -0.02\n",
      "|   |   |   |   |   |   |   |   |   |   |   |--- truncated branch of depth 4\n",
      "|   |   |   |   |   |   |   |   |   |--- 0 >  -0.00\n",
      "|   |   |   |   |   |   |   |   |   |   |--- class: 0\n",
      "|   |   |   |   |   |   |   |   |--- 0 >  0.00\n",
      "|   |   |   |   |   |   |   |   |   |--- 0 <= 0.01\n",
      "|   |   |   |   |   |   |   |   |   |   |--- 0 <= 0.01\n",
      "|   |   |   |   |   |   |   |   |   |   |   |--- class: 0\n",
      "|   |   |   |   |   |   |   |   |   |   |--- 0 >  0.01\n",
      "|   |   |   |   |   |   |   |   |   |   |   |--- class: 0\n",
      "|   |   |   |   |   |   |   |   |   |--- 0 >  0.01\n",
      "|   |   |   |   |   |   |   |   |   |   |--- 0 <= 0.01\n",
      "|   |   |   |   |   |   |   |   |   |   |   |--- class: 0\n",
      "|   |   |   |   |   |   |   |   |   |   |--- 0 >  0.01\n",
      "|   |   |   |   |   |   |   |   |   |   |   |--- class: 0\n",
      "|   |   |   |   |   |   |   |--- 0 >  0.02\n",
      "|   |   |   |   |   |   |   |   |--- 0 <= 0.02\n",
      "|   |   |   |   |   |   |   |   |   |--- class: 0\n",
      "|   |   |   |   |   |   |   |   |--- 0 >  0.02\n",
      "|   |   |   |   |   |   |   |   |   |--- class: 0\n",
      "|   |   |   |--- 0 >  0.03\n",
      "|   |   |   |   |--- 0 <= 0.04\n",
      "|   |   |   |   |   |--- 0 <= 0.03\n",
      "|   |   |   |   |   |   |--- 0 <= 0.03\n",
      "|   |   |   |   |   |   |   |--- class: 0\n",
      "|   |   |   |   |   |   |--- 0 >  0.03\n",
      "|   |   |   |   |   |   |   |--- class: 0\n",
      "|   |   |   |   |   |--- 0 >  0.03\n",
      "|   |   |   |   |   |   |--- class: 0\n",
      "|   |   |   |   |--- 0 >  0.04\n",
      "|   |   |   |   |   |--- 0 <= 0.37\n",
      "|   |   |   |   |   |   |--- 0 <= 0.28\n",
      "|   |   |   |   |   |   |   |--- 0 <= 0.24\n",
      "|   |   |   |   |   |   |   |   |--- 0 <= 0.24\n",
      "|   |   |   |   |   |   |   |   |   |--- 0 <= 0.11\n",
      "|   |   |   |   |   |   |   |   |   |   |--- 0 <= 0.10\n",
      "|   |   |   |   |   |   |   |   |   |   |   |--- truncated branch of depth 10\n",
      "|   |   |   |   |   |   |   |   |   |   |--- 0 >  0.10\n",
      "|   |   |   |   |   |   |   |   |   |   |   |--- truncated branch of depth 2\n",
      "|   |   |   |   |   |   |   |   |   |--- 0 >  0.11\n",
      "|   |   |   |   |   |   |   |   |   |   |--- 0 <= 0.15\n",
      "|   |   |   |   |   |   |   |   |   |   |   |--- truncated branch of depth 5\n",
      "|   |   |   |   |   |   |   |   |   |   |--- 0 >  0.15\n",
      "|   |   |   |   |   |   |   |   |   |   |   |--- truncated branch of depth 11\n",
      "|   |   |   |   |   |   |   |   |--- 0 >  0.24\n",
      "|   |   |   |   |   |   |   |   |   |--- class: 0\n",
      "|   |   |   |   |   |   |   |--- 0 >  0.24\n",
      "|   |   |   |   |   |   |   |   |--- 0 <= 0.27\n",
      "|   |   |   |   |   |   |   |   |   |--- 0 <= 0.27\n",
      "|   |   |   |   |   |   |   |   |   |   |--- 0 <= 0.26\n",
      "|   |   |   |   |   |   |   |   |   |   |   |--- truncated branch of depth 3\n",
      "|   |   |   |   |   |   |   |   |   |   |--- 0 >  0.26\n",
      "|   |   |   |   |   |   |   |   |   |   |   |--- truncated branch of depth 2\n",
      "|   |   |   |   |   |   |   |   |   |--- 0 >  0.27\n",
      "|   |   |   |   |   |   |   |   |   |   |--- class: 0\n",
      "|   |   |   |   |   |   |   |   |--- 0 >  0.27\n",
      "|   |   |   |   |   |   |   |   |   |--- 0 <= 0.28\n",
      "|   |   |   |   |   |   |   |   |   |   |--- class: 0\n",
      "|   |   |   |   |   |   |   |   |   |--- 0 >  0.28\n",
      "|   |   |   |   |   |   |   |   |   |   |--- class: 0\n",
      "|   |   |   |   |   |   |--- 0 >  0.28\n",
      "|   |   |   |   |   |   |   |--- 0 <= 0.29\n",
      "|   |   |   |   |   |   |   |   |--- 0 <= 0.28\n",
      "|   |   |   |   |   |   |   |   |   |--- class: 0\n",
      "|   |   |   |   |   |   |   |   |--- 0 >  0.28\n",
      "|   |   |   |   |   |   |   |   |   |--- 0 <= 0.29\n",
      "|   |   |   |   |   |   |   |   |   |   |--- class: 0\n",
      "|   |   |   |   |   |   |   |   |   |--- 0 >  0.29\n",
      "|   |   |   |   |   |   |   |   |   |   |--- class: 0\n",
      "|   |   |   |   |   |   |   |--- 0 >  0.29\n",
      "|   |   |   |   |   |   |   |   |--- 0 <= 0.34\n",
      "|   |   |   |   |   |   |   |   |   |--- 0 <= 0.31\n",
      "|   |   |   |   |   |   |   |   |   |   |--- 0 <= 0.31\n",
      "|   |   |   |   |   |   |   |   |   |   |   |--- truncated branch of depth 3\n",
      "|   |   |   |   |   |   |   |   |   |   |--- 0 >  0.31\n",
      "|   |   |   |   |   |   |   |   |   |   |   |--- truncated branch of depth 2\n",
      "|   |   |   |   |   |   |   |   |   |--- 0 >  0.31\n",
      "|   |   |   |   |   |   |   |   |   |   |--- 0 <= 0.33\n",
      "|   |   |   |   |   |   |   |   |   |   |   |--- truncated branch of depth 4\n",
      "|   |   |   |   |   |   |   |   |   |   |--- 0 >  0.33\n",
      "|   |   |   |   |   |   |   |   |   |   |   |--- truncated branch of depth 3\n",
      "|   |   |   |   |   |   |   |   |--- 0 >  0.34\n",
      "|   |   |   |   |   |   |   |   |   |--- 0 <= 0.35\n",
      "|   |   |   |   |   |   |   |   |   |   |--- 0 <= 0.34\n",
      "|   |   |   |   |   |   |   |   |   |   |   |--- class: 0\n",
      "|   |   |   |   |   |   |   |   |   |   |--- 0 >  0.34\n",
      "|   |   |   |   |   |   |   |   |   |   |   |--- class: 0\n",
      "|   |   |   |   |   |   |   |   |   |--- 0 >  0.35\n",
      "|   |   |   |   |   |   |   |   |   |   |--- 0 <= 0.35\n",
      "|   |   |   |   |   |   |   |   |   |   |   |--- class: 0\n",
      "|   |   |   |   |   |   |   |   |   |   |--- 0 >  0.35\n",
      "|   |   |   |   |   |   |   |   |   |   |   |--- truncated branch of depth 4\n",
      "|   |   |   |   |   |--- 0 >  0.37\n",
      "|   |   |   |   |   |   |--- 0 <= 0.37\n",
      "|   |   |   |   |   |   |   |--- class: 0\n",
      "|   |   |   |   |   |   |--- 0 >  0.37\n",
      "|   |   |   |   |   |   |   |--- 0 <= 0.49\n",
      "|   |   |   |   |   |   |   |   |--- 0 <= 0.41\n",
      "|   |   |   |   |   |   |   |   |   |--- 0 <= 0.40\n",
      "|   |   |   |   |   |   |   |   |   |   |--- 0 <= 0.40\n",
      "|   |   |   |   |   |   |   |   |   |   |   |--- truncated branch of depth 5\n",
      "|   |   |   |   |   |   |   |   |   |   |--- 0 >  0.40\n",
      "|   |   |   |   |   |   |   |   |   |   |   |--- class: 0\n",
      "|   |   |   |   |   |   |   |   |   |--- 0 >  0.40\n",
      "|   |   |   |   |   |   |   |   |   |   |--- 0 <= 0.41\n",
      "|   |   |   |   |   |   |   |   |   |   |   |--- class: 0\n",
      "|   |   |   |   |   |   |   |   |   |   |--- 0 >  0.41\n",
      "|   |   |   |   |   |   |   |   |   |   |   |--- truncated branch of depth 2\n",
      "|   |   |   |   |   |   |   |   |--- 0 >  0.41\n",
      "|   |   |   |   |   |   |   |   |   |--- 0 <= 0.42\n",
      "|   |   |   |   |   |   |   |   |   |   |--- class: 0\n",
      "|   |   |   |   |   |   |   |   |   |--- 0 >  0.42\n",
      "|   |   |   |   |   |   |   |   |   |   |--- 0 <= 0.46\n",
      "|   |   |   |   |   |   |   |   |   |   |   |--- truncated branch of depth 6\n",
      "|   |   |   |   |   |   |   |   |   |   |--- 0 >  0.46\n",
      "|   |   |   |   |   |   |   |   |   |   |   |--- truncated branch of depth 6\n",
      "|   |   |   |   |   |   |   |--- 0 >  0.49\n",
      "|   |   |   |   |   |   |   |   |--- 0 <= 0.50\n",
      "|   |   |   |   |   |   |   |   |   |--- 0 <= 0.50\n",
      "|   |   |   |   |   |   |   |   |   |   |--- class: 0\n",
      "|   |   |   |   |   |   |   |   |   |--- 0 >  0.50\n",
      "|   |   |   |   |   |   |   |   |   |   |--- class: 0\n",
      "|   |   |   |   |   |   |   |   |--- 0 >  0.50\n",
      "|   |   |   |   |   |   |   |   |   |--- 0 <= 0.51\n",
      "|   |   |   |   |   |   |   |   |   |   |--- 0 <= 0.51\n",
      "|   |   |   |   |   |   |   |   |   |   |   |--- class: 0\n",
      "|   |   |   |   |   |   |   |   |   |   |--- 0 >  0.51\n",
      "|   |   |   |   |   |   |   |   |   |   |   |--- class: 0\n",
      "|   |   |   |   |   |   |   |   |   |--- 0 >  0.51\n",
      "|   |   |   |   |   |   |   |   |   |   |--- 0 <= 0.51\n",
      "|   |   |   |   |   |   |   |   |   |   |   |--- class: 0\n",
      "|   |   |   |   |   |   |   |   |   |   |--- 0 >  0.51\n",
      "|   |   |   |   |   |   |   |   |   |   |   |--- class: 0\n",
      "|   |   |--- 0 >  0.52\n",
      "|   |   |   |--- 0 <= 0.72\n",
      "|   |   |   |   |--- 0 <= 0.61\n",
      "|   |   |   |   |   |--- 0 <= 0.59\n",
      "|   |   |   |   |   |   |--- 0 <= 0.53\n",
      "|   |   |   |   |   |   |   |--- 0 <= 0.53\n",
      "|   |   |   |   |   |   |   |   |--- 0 <= 0.52\n",
      "|   |   |   |   |   |   |   |   |   |--- class: 0\n",
      "|   |   |   |   |   |   |   |   |--- 0 >  0.52\n",
      "|   |   |   |   |   |   |   |   |   |--- 0 <= 0.53\n",
      "|   |   |   |   |   |   |   |   |   |   |--- class: 0\n",
      "|   |   |   |   |   |   |   |   |   |--- 0 >  0.53\n",
      "|   |   |   |   |   |   |   |   |   |   |--- class: 0\n",
      "|   |   |   |   |   |   |   |--- 0 >  0.53\n",
      "|   |   |   |   |   |   |   |   |--- class: 0\n",
      "|   |   |   |   |   |   |--- 0 >  0.53\n",
      "|   |   |   |   |   |   |   |--- 0 <= 0.58\n",
      "|   |   |   |   |   |   |   |   |--- 0 <= 0.55\n",
      "|   |   |   |   |   |   |   |   |   |--- 0 <= 0.55\n",
      "|   |   |   |   |   |   |   |   |   |   |--- 0 <= 0.54\n",
      "|   |   |   |   |   |   |   |   |   |   |   |--- truncated branch of depth 2\n",
      "|   |   |   |   |   |   |   |   |   |   |--- 0 >  0.54\n",
      "|   |   |   |   |   |   |   |   |   |   |   |--- truncated branch of depth 2\n",
      "|   |   |   |   |   |   |   |   |   |--- 0 >  0.55\n",
      "|   |   |   |   |   |   |   |   |   |   |--- class: 0\n",
      "|   |   |   |   |   |   |   |   |--- 0 >  0.55\n",
      "|   |   |   |   |   |   |   |   |   |--- 0 <= 0.57\n",
      "|   |   |   |   |   |   |   |   |   |   |--- 0 <= 0.56\n",
      "|   |   |   |   |   |   |   |   |   |   |   |--- truncated branch of depth 3\n",
      "|   |   |   |   |   |   |   |   |   |   |--- 0 >  0.56\n",
      "|   |   |   |   |   |   |   |   |   |   |   |--- truncated branch of depth 2\n",
      "|   |   |   |   |   |   |   |   |   |--- 0 >  0.57\n",
      "|   |   |   |   |   |   |   |   |   |   |--- 0 <= 0.58\n",
      "|   |   |   |   |   |   |   |   |   |   |   |--- class: 0\n",
      "|   |   |   |   |   |   |   |   |   |   |--- 0 >  0.58\n",
      "|   |   |   |   |   |   |   |   |   |   |   |--- truncated branch of depth 2\n",
      "|   |   |   |   |   |   |   |--- 0 >  0.58\n",
      "|   |   |   |   |   |   |   |   |--- 0 <= 0.59\n",
      "|   |   |   |   |   |   |   |   |   |--- 0 <= 0.59\n",
      "|   |   |   |   |   |   |   |   |   |   |--- class: 0\n",
      "|   |   |   |   |   |   |   |   |   |--- 0 >  0.59\n",
      "|   |   |   |   |   |   |   |   |   |   |--- class: 0\n",
      "|   |   |   |   |   |   |   |   |--- 0 >  0.59\n",
      "|   |   |   |   |   |   |   |   |   |--- class: 0\n",
      "|   |   |   |   |   |--- 0 >  0.59\n",
      "|   |   |   |   |   |   |--- 0 <= 0.60\n",
      "|   |   |   |   |   |   |   |--- 0 <= 0.60\n",
      "|   |   |   |   |   |   |   |   |--- class: 0\n",
      "|   |   |   |   |   |   |   |--- 0 >  0.60\n",
      "|   |   |   |   |   |   |   |   |--- class: 0\n",
      "|   |   |   |   |   |   |--- 0 >  0.60\n",
      "|   |   |   |   |   |   |   |--- 0 <= 0.61\n",
      "|   |   |   |   |   |   |   |   |--- class: 0\n",
      "|   |   |   |   |   |   |   |--- 0 >  0.61\n",
      "|   |   |   |   |   |   |   |   |--- class: 0\n",
      "|   |   |   |   |--- 0 >  0.61\n",
      "|   |   |   |   |   |--- 0 <= 0.61\n",
      "|   |   |   |   |   |   |--- class: 0\n",
      "|   |   |   |   |   |--- 0 >  0.61\n",
      "|   |   |   |   |   |   |--- 0 <= 0.72\n",
      "|   |   |   |   |   |   |   |--- 0 <= 0.65\n",
      "|   |   |   |   |   |   |   |   |--- 0 <= 0.65\n",
      "|   |   |   |   |   |   |   |   |   |--- 0 <= 0.64\n",
      "|   |   |   |   |   |   |   |   |   |   |--- 0 <= 0.64\n",
      "|   |   |   |   |   |   |   |   |   |   |   |--- truncated branch of depth 5\n",
      "|   |   |   |   |   |   |   |   |   |   |--- 0 >  0.64\n",
      "|   |   |   |   |   |   |   |   |   |   |   |--- class: 0\n",
      "|   |   |   |   |   |   |   |   |   |--- 0 >  0.64\n",
      "|   |   |   |   |   |   |   |   |   |   |--- 0 <= 0.64\n",
      "|   |   |   |   |   |   |   |   |   |   |   |--- class: 0\n",
      "|   |   |   |   |   |   |   |   |   |   |--- 0 >  0.64\n",
      "|   |   |   |   |   |   |   |   |   |   |   |--- class: 0\n",
      "|   |   |   |   |   |   |   |   |--- 0 >  0.65\n",
      "|   |   |   |   |   |   |   |   |   |--- class: 0\n",
      "|   |   |   |   |   |   |   |--- 0 >  0.65\n",
      "|   |   |   |   |   |   |   |   |--- 0 <= 0.66\n",
      "|   |   |   |   |   |   |   |   |   |--- 0 <= 0.66\n",
      "|   |   |   |   |   |   |   |   |   |   |--- class: 0\n",
      "|   |   |   |   |   |   |   |   |   |--- 0 >  0.66\n",
      "|   |   |   |   |   |   |   |   |   |   |--- class: 0\n",
      "|   |   |   |   |   |   |   |   |--- 0 >  0.66\n",
      "|   |   |   |   |   |   |   |   |   |--- 0 <= 0.67\n",
      "|   |   |   |   |   |   |   |   |   |   |--- 0 <= 0.67\n",
      "|   |   |   |   |   |   |   |   |   |   |   |--- truncated branch of depth 2\n",
      "|   |   |   |   |   |   |   |   |   |   |--- 0 >  0.67\n",
      "|   |   |   |   |   |   |   |   |   |   |   |--- class: 0\n",
      "|   |   |   |   |   |   |   |   |   |--- 0 >  0.67\n",
      "|   |   |   |   |   |   |   |   |   |   |--- 0 <= 0.68\n",
      "|   |   |   |   |   |   |   |   |   |   |   |--- class: 0\n",
      "|   |   |   |   |   |   |   |   |   |   |--- 0 >  0.68\n",
      "|   |   |   |   |   |   |   |   |   |   |   |--- truncated branch of depth 8\n",
      "|   |   |   |   |   |   |--- 0 >  0.72\n",
      "|   |   |   |   |   |   |   |--- class: 0\n",
      "|   |   |   |--- 0 >  0.72\n",
      "|   |   |   |   |--- 0 <= 0.98\n",
      "|   |   |   |   |   |--- 0 <= 0.82\n",
      "|   |   |   |   |   |   |--- 0 <= 0.78\n",
      "|   |   |   |   |   |   |   |--- 0 <= 0.76\n",
      "|   |   |   |   |   |   |   |   |--- 0 <= 0.74\n",
      "|   |   |   |   |   |   |   |   |   |--- 0 <= 0.73\n",
      "|   |   |   |   |   |   |   |   |   |   |--- 0 <= 0.73\n",
      "|   |   |   |   |   |   |   |   |   |   |   |--- class: 0\n",
      "|   |   |   |   |   |   |   |   |   |   |--- 0 >  0.73\n",
      "|   |   |   |   |   |   |   |   |   |   |   |--- class: 0\n",
      "|   |   |   |   |   |   |   |   |   |--- 0 >  0.73\n",
      "|   |   |   |   |   |   |   |   |   |   |--- 0 <= 0.73\n",
      "|   |   |   |   |   |   |   |   |   |   |   |--- class: 1\n",
      "|   |   |   |   |   |   |   |   |   |   |--- 0 >  0.73\n",
      "|   |   |   |   |   |   |   |   |   |   |   |--- class: 0\n",
      "|   |   |   |   |   |   |   |   |--- 0 >  0.74\n",
      "|   |   |   |   |   |   |   |   |   |--- 0 <= 0.74\n",
      "|   |   |   |   |   |   |   |   |   |   |--- class: 0\n",
      "|   |   |   |   |   |   |   |   |   |--- 0 >  0.74\n",
      "|   |   |   |   |   |   |   |   |   |   |--- 0 <= 0.76\n",
      "|   |   |   |   |   |   |   |   |   |   |   |--- truncated branch of depth 4\n",
      "|   |   |   |   |   |   |   |   |   |   |--- 0 >  0.76\n",
      "|   |   |   |   |   |   |   |   |   |   |   |--- class: 0\n",
      "|   |   |   |   |   |   |   |--- 0 >  0.76\n",
      "|   |   |   |   |   |   |   |   |--- 0 <= 0.77\n",
      "|   |   |   |   |   |   |   |   |   |--- class: 1\n",
      "|   |   |   |   |   |   |   |   |--- 0 >  0.77\n",
      "|   |   |   |   |   |   |   |   |   |--- 0 <= 0.78\n",
      "|   |   |   |   |   |   |   |   |   |   |--- 0 <= 0.77\n",
      "|   |   |   |   |   |   |   |   |   |   |   |--- class: 0\n",
      "|   |   |   |   |   |   |   |   |   |   |--- 0 >  0.77\n",
      "|   |   |   |   |   |   |   |   |   |   |   |--- truncated branch of depth 2\n",
      "|   |   |   |   |   |   |   |   |   |--- 0 >  0.78\n",
      "|   |   |   |   |   |   |   |   |   |   |--- class: 0\n",
      "|   |   |   |   |   |   |--- 0 >  0.78\n",
      "|   |   |   |   |   |   |   |--- 0 <= 0.80\n",
      "|   |   |   |   |   |   |   |   |--- 0 <= 0.79\n",
      "|   |   |   |   |   |   |   |   |   |--- 0 <= 0.79\n",
      "|   |   |   |   |   |   |   |   |   |   |--- 0 <= 0.79\n",
      "|   |   |   |   |   |   |   |   |   |   |   |--- class: 0\n",
      "|   |   |   |   |   |   |   |   |   |   |--- 0 >  0.79\n",
      "|   |   |   |   |   |   |   |   |   |   |   |--- class: 0\n",
      "|   |   |   |   |   |   |   |   |   |--- 0 >  0.79\n",
      "|   |   |   |   |   |   |   |   |   |   |--- class: 0\n",
      "|   |   |   |   |   |   |   |   |--- 0 >  0.79\n",
      "|   |   |   |   |   |   |   |   |   |--- 0 <= 0.80\n",
      "|   |   |   |   |   |   |   |   |   |   |--- class: 0\n",
      "|   |   |   |   |   |   |   |   |   |--- 0 >  0.80\n",
      "|   |   |   |   |   |   |   |   |   |   |--- class: 0\n",
      "|   |   |   |   |   |   |   |--- 0 >  0.80\n",
      "|   |   |   |   |   |   |   |   |--- 0 <= 0.82\n",
      "|   |   |   |   |   |   |   |   |   |--- 0 <= 0.81\n",
      "|   |   |   |   |   |   |   |   |   |   |--- class: 0\n",
      "|   |   |   |   |   |   |   |   |   |--- 0 >  0.81\n",
      "|   |   |   |   |   |   |   |   |   |   |--- 0 <= 0.81\n",
      "|   |   |   |   |   |   |   |   |   |   |   |--- truncated branch of depth 2\n",
      "|   |   |   |   |   |   |   |   |   |   |--- 0 >  0.81\n",
      "|   |   |   |   |   |   |   |   |   |   |   |--- class: 0\n",
      "|   |   |   |   |   |   |   |   |--- 0 >  0.82\n",
      "|   |   |   |   |   |   |   |   |   |--- class: 0\n",
      "|   |   |   |   |   |--- 0 >  0.82\n",
      "|   |   |   |   |   |   |--- 0 <= 0.86\n",
      "|   |   |   |   |   |   |   |--- 0 <= 0.84\n",
      "|   |   |   |   |   |   |   |   |--- 0 <= 0.84\n",
      "|   |   |   |   |   |   |   |   |   |--- 0 <= 0.83\n",
      "|   |   |   |   |   |   |   |   |   |   |--- 0 <= 0.83\n",
      "|   |   |   |   |   |   |   |   |   |   |   |--- truncated branch of depth 2\n",
      "|   |   |   |   |   |   |   |   |   |   |--- 0 >  0.83\n",
      "|   |   |   |   |   |   |   |   |   |   |   |--- class: 0\n",
      "|   |   |   |   |   |   |   |   |   |--- 0 >  0.83\n",
      "|   |   |   |   |   |   |   |   |   |   |--- class: 0\n",
      "|   |   |   |   |   |   |   |   |--- 0 >  0.84\n",
      "|   |   |   |   |   |   |   |   |   |--- class: 0\n",
      "|   |   |   |   |   |   |   |--- 0 >  0.84\n",
      "|   |   |   |   |   |   |   |   |--- 0 <= 0.84\n",
      "|   |   |   |   |   |   |   |   |   |--- class: 1\n",
      "|   |   |   |   |   |   |   |   |--- 0 >  0.84\n",
      "|   |   |   |   |   |   |   |   |   |--- 0 <= 0.85\n",
      "|   |   |   |   |   |   |   |   |   |   |--- 0 <= 0.85\n",
      "|   |   |   |   |   |   |   |   |   |   |   |--- class: 0\n",
      "|   |   |   |   |   |   |   |   |   |   |--- 0 >  0.85\n",
      "|   |   |   |   |   |   |   |   |   |   |   |--- class: 0\n",
      "|   |   |   |   |   |   |   |   |   |--- 0 >  0.85\n",
      "|   |   |   |   |   |   |   |   |   |   |--- 0 <= 0.86\n",
      "|   |   |   |   |   |   |   |   |   |   |   |--- class: 0\n",
      "|   |   |   |   |   |   |   |   |   |   |--- 0 >  0.86\n",
      "|   |   |   |   |   |   |   |   |   |   |   |--- truncated branch of depth 2\n",
      "|   |   |   |   |   |   |--- 0 >  0.86\n",
      "|   |   |   |   |   |   |   |--- 0 <= 0.87\n",
      "|   |   |   |   |   |   |   |   |--- 0 <= 0.87\n",
      "|   |   |   |   |   |   |   |   |   |--- class: 0\n",
      "|   |   |   |   |   |   |   |   |--- 0 >  0.87\n",
      "|   |   |   |   |   |   |   |   |   |--- class: 0\n",
      "|   |   |   |   |   |   |   |--- 0 >  0.87\n",
      "|   |   |   |   |   |   |   |   |--- 0 <= 0.88\n",
      "|   |   |   |   |   |   |   |   |   |--- class: 0\n",
      "|   |   |   |   |   |   |   |   |--- 0 >  0.88\n",
      "|   |   |   |   |   |   |   |   |   |--- 0 <= 0.90\n",
      "|   |   |   |   |   |   |   |   |   |   |--- 0 <= 0.88\n",
      "|   |   |   |   |   |   |   |   |   |   |   |--- class: 0\n",
      "|   |   |   |   |   |   |   |   |   |   |--- 0 >  0.88\n",
      "|   |   |   |   |   |   |   |   |   |   |   |--- truncated branch of depth 5\n",
      "|   |   |   |   |   |   |   |   |   |--- 0 >  0.90\n",
      "|   |   |   |   |   |   |   |   |   |   |--- 0 <= 0.91\n",
      "|   |   |   |   |   |   |   |   |   |   |   |--- class: 0\n",
      "|   |   |   |   |   |   |   |   |   |   |--- 0 >  0.91\n",
      "|   |   |   |   |   |   |   |   |   |   |   |--- truncated branch of depth 11\n",
      "|   |   |   |   |--- 0 >  0.98\n",
      "|   |   |   |   |   |--- 0 <= 0.99\n",
      "|   |   |   |   |   |   |--- 0 <= 0.98\n",
      "|   |   |   |   |   |   |   |--- class: 0\n",
      "|   |   |   |   |   |   |--- 0 >  0.98\n",
      "|   |   |   |   |   |   |   |--- class: 0\n",
      "|   |   |   |   |   |--- 0 >  0.99\n",
      "|   |   |   |   |   |   |--- 0 <= 1.00\n",
      "|   |   |   |   |   |   |   |--- 0 <= 1.00\n",
      "|   |   |   |   |   |   |   |   |--- 0 <= 0.99\n",
      "|   |   |   |   |   |   |   |   |   |--- 0 <= 0.99\n",
      "|   |   |   |   |   |   |   |   |   |   |--- class: 0\n",
      "|   |   |   |   |   |   |   |   |   |--- 0 >  0.99\n",
      "|   |   |   |   |   |   |   |   |   |   |--- class: 0\n",
      "|   |   |   |   |   |   |   |   |--- 0 >  0.99\n",
      "|   |   |   |   |   |   |   |   |   |--- class: 0\n",
      "|   |   |   |   |   |   |   |--- 0 >  1.00\n",
      "|   |   |   |   |   |   |   |   |--- class: 0\n",
      "|   |   |   |   |   |   |--- 0 >  1.00\n",
      "|   |   |   |   |   |   |   |--- 0 <= 1.01\n",
      "|   |   |   |   |   |   |   |   |--- 0 <= 1.01\n",
      "|   |   |   |   |   |   |   |   |   |--- class: 0\n",
      "|   |   |   |   |   |   |   |   |--- 0 >  1.01\n",
      "|   |   |   |   |   |   |   |   |   |--- class: 0\n",
      "|   |   |   |   |   |   |   |--- 0 >  1.01\n",
      "|   |   |   |   |   |   |   |   |--- 0 <= 1.01\n",
      "|   |   |   |   |   |   |   |   |   |--- class: 0\n",
      "|   |   |   |   |   |   |   |   |--- 0 >  1.01\n",
      "|   |   |   |   |   |   |   |   |   |--- 0 <= 1.02\n",
      "|   |   |   |   |   |   |   |   |   |   |--- class: 0\n",
      "|   |   |   |   |   |   |   |   |   |--- 0 >  1.02\n",
      "|   |   |   |   |   |   |   |   |   |   |--- class: 0\n",
      "|--- 0 >  1.02\n",
      "|   |--- 0 <= 2.11\n",
      "|   |   |--- 0 <= 1.48\n",
      "|   |   |   |--- 0 <= 1.47\n",
      "|   |   |   |   |--- 0 <= 1.03\n",
      "|   |   |   |   |   |--- 0 <= 1.03\n",
      "|   |   |   |   |   |   |--- class: 0\n",
      "|   |   |   |   |   |--- 0 >  1.03\n",
      "|   |   |   |   |   |   |--- class: 1\n",
      "|   |   |   |   |--- 0 >  1.03\n",
      "|   |   |   |   |   |--- 0 <= 1.22\n",
      "|   |   |   |   |   |   |--- 0 <= 1.19\n",
      "|   |   |   |   |   |   |   |--- 0 <= 1.18\n",
      "|   |   |   |   |   |   |   |   |--- 0 <= 1.17\n",
      "|   |   |   |   |   |   |   |   |   |--- 0 <= 1.12\n",
      "|   |   |   |   |   |   |   |   |   |   |--- 0 <= 1.09\n",
      "|   |   |   |   |   |   |   |   |   |   |   |--- truncated branch of depth 8\n",
      "|   |   |   |   |   |   |   |   |   |   |--- 0 >  1.09\n",
      "|   |   |   |   |   |   |   |   |   |   |   |--- truncated branch of depth 6\n",
      "|   |   |   |   |   |   |   |   |   |--- 0 >  1.12\n",
      "|   |   |   |   |   |   |   |   |   |   |--- 0 <= 1.14\n",
      "|   |   |   |   |   |   |   |   |   |   |   |--- truncated branch of depth 4\n",
      "|   |   |   |   |   |   |   |   |   |   |--- 0 >  1.14\n",
      "|   |   |   |   |   |   |   |   |   |   |   |--- truncated branch of depth 5\n",
      "|   |   |   |   |   |   |   |   |--- 0 >  1.17\n",
      "|   |   |   |   |   |   |   |   |   |--- 0 <= 1.17\n",
      "|   |   |   |   |   |   |   |   |   |   |--- class: 0\n",
      "|   |   |   |   |   |   |   |   |   |--- 0 >  1.17\n",
      "|   |   |   |   |   |   |   |   |   |   |--- class: 0\n",
      "|   |   |   |   |   |   |   |--- 0 >  1.18\n",
      "|   |   |   |   |   |   |   |   |--- 0 <= 1.18\n",
      "|   |   |   |   |   |   |   |   |   |--- class: 0\n",
      "|   |   |   |   |   |   |   |   |--- 0 >  1.18\n",
      "|   |   |   |   |   |   |   |   |   |--- 0 <= 1.19\n",
      "|   |   |   |   |   |   |   |   |   |   |--- class: 0\n",
      "|   |   |   |   |   |   |   |   |   |--- 0 >  1.19\n",
      "|   |   |   |   |   |   |   |   |   |   |--- class: 0\n",
      "|   |   |   |   |   |   |--- 0 >  1.19\n",
      "|   |   |   |   |   |   |   |--- 0 <= 1.21\n",
      "|   |   |   |   |   |   |   |   |--- 0 <= 1.20\n",
      "|   |   |   |   |   |   |   |   |   |--- 0 <= 1.20\n",
      "|   |   |   |   |   |   |   |   |   |   |--- 0 <= 1.19\n",
      "|   |   |   |   |   |   |   |   |   |   |   |--- class: 0\n",
      "|   |   |   |   |   |   |   |   |   |   |--- 0 >  1.19\n",
      "|   |   |   |   |   |   |   |   |   |   |   |--- class: 0\n",
      "|   |   |   |   |   |   |   |   |   |--- 0 >  1.20\n",
      "|   |   |   |   |   |   |   |   |   |   |--- class: 0\n",
      "|   |   |   |   |   |   |   |   |--- 0 >  1.20\n",
      "|   |   |   |   |   |   |   |   |   |--- 0 <= 1.21\n",
      "|   |   |   |   |   |   |   |   |   |   |--- class: 0\n",
      "|   |   |   |   |   |   |   |   |   |--- 0 >  1.21\n",
      "|   |   |   |   |   |   |   |   |   |   |--- class: 0\n",
      "|   |   |   |   |   |   |   |--- 0 >  1.21\n",
      "|   |   |   |   |   |   |   |   |--- 0 <= 1.21\n",
      "|   |   |   |   |   |   |   |   |   |--- class: 0\n",
      "|   |   |   |   |   |   |   |   |--- 0 >  1.21\n",
      "|   |   |   |   |   |   |   |   |   |--- class: 0\n",
      "|   |   |   |   |   |--- 0 >  1.22\n",
      "|   |   |   |   |   |   |--- 0 <= 1.22\n",
      "|   |   |   |   |   |   |   |--- class: 1\n",
      "|   |   |   |   |   |   |--- 0 >  1.22\n",
      "|   |   |   |   |   |   |   |--- 0 <= 1.23\n",
      "|   |   |   |   |   |   |   |   |--- 0 <= 1.22\n",
      "|   |   |   |   |   |   |   |   |   |--- class: 0\n",
      "|   |   |   |   |   |   |   |   |--- 0 >  1.22\n",
      "|   |   |   |   |   |   |   |   |   |--- 0 <= 1.23\n",
      "|   |   |   |   |   |   |   |   |   |   |--- class: 0\n",
      "|   |   |   |   |   |   |   |   |   |--- 0 >  1.23\n",
      "|   |   |   |   |   |   |   |   |   |   |--- class: 0\n",
      "|   |   |   |   |   |   |   |--- 0 >  1.23\n",
      "|   |   |   |   |   |   |   |   |--- 0 <= 1.24\n",
      "|   |   |   |   |   |   |   |   |   |--- 0 <= 1.24\n",
      "|   |   |   |   |   |   |   |   |   |   |--- class: 0\n",
      "|   |   |   |   |   |   |   |   |   |--- 0 >  1.24\n",
      "|   |   |   |   |   |   |   |   |   |   |--- 0 <= 1.24\n",
      "|   |   |   |   |   |   |   |   |   |   |   |--- class: 0\n",
      "|   |   |   |   |   |   |   |   |   |   |--- 0 >  1.24\n",
      "|   |   |   |   |   |   |   |   |   |   |   |--- class: 0\n",
      "|   |   |   |   |   |   |   |   |--- 0 >  1.24\n",
      "|   |   |   |   |   |   |   |   |   |--- 0 <= 1.25\n",
      "|   |   |   |   |   |   |   |   |   |   |--- class: 1\n",
      "|   |   |   |   |   |   |   |   |   |--- 0 >  1.25\n",
      "|   |   |   |   |   |   |   |   |   |   |--- 0 <= 1.25\n",
      "|   |   |   |   |   |   |   |   |   |   |   |--- class: 0\n",
      "|   |   |   |   |   |   |   |   |   |   |--- 0 >  1.25\n",
      "|   |   |   |   |   |   |   |   |   |   |   |--- truncated branch of depth 13\n",
      "|   |   |   |--- 0 >  1.47\n",
      "|   |   |   |   |--- 0 <= 1.48\n",
      "|   |   |   |   |   |--- class: 0\n",
      "|   |   |   |   |--- 0 >  1.48\n",
      "|   |   |   |   |   |--- class: 0\n",
      "|   |   |--- 0 >  1.48\n",
      "|   |   |   |--- 0 <= 1.56\n",
      "|   |   |   |   |--- 0 <= 1.55\n",
      "|   |   |   |   |   |--- 0 <= 1.54\n",
      "|   |   |   |   |   |   |--- 0 <= 1.49\n",
      "|   |   |   |   |   |   |   |--- class: 1\n",
      "|   |   |   |   |   |   |--- 0 >  1.49\n",
      "|   |   |   |   |   |   |   |--- 0 <= 1.49\n",
      "|   |   |   |   |   |   |   |   |--- 0 <= 1.49\n",
      "|   |   |   |   |   |   |   |   |   |--- class: 0\n",
      "|   |   |   |   |   |   |   |   |--- 0 >  1.49\n",
      "|   |   |   |   |   |   |   |   |   |--- class: 0\n",
      "|   |   |   |   |   |   |   |--- 0 >  1.49\n",
      "|   |   |   |   |   |   |   |   |--- 0 <= 1.52\n",
      "|   |   |   |   |   |   |   |   |   |--- 0 <= 1.52\n",
      "|   |   |   |   |   |   |   |   |   |   |--- 0 <= 1.51\n",
      "|   |   |   |   |   |   |   |   |   |   |   |--- truncated branch of depth 4\n",
      "|   |   |   |   |   |   |   |   |   |   |--- 0 >  1.51\n",
      "|   |   |   |   |   |   |   |   |   |   |   |--- truncated branch of depth 3\n",
      "|   |   |   |   |   |   |   |   |   |--- 0 >  1.52\n",
      "|   |   |   |   |   |   |   |   |   |   |--- class: 1\n",
      "|   |   |   |   |   |   |   |   |--- 0 >  1.52\n",
      "|   |   |   |   |   |   |   |   |   |--- 0 <= 1.53\n",
      "|   |   |   |   |   |   |   |   |   |   |--- class: 0\n",
      "|   |   |   |   |   |   |   |   |   |--- 0 >  1.53\n",
      "|   |   |   |   |   |   |   |   |   |   |--- 0 <= 1.53\n",
      "|   |   |   |   |   |   |   |   |   |   |   |--- class: 0\n",
      "|   |   |   |   |   |   |   |   |   |   |--- 0 >  1.53\n",
      "|   |   |   |   |   |   |   |   |   |   |   |--- class: 1\n",
      "|   |   |   |   |   |--- 0 >  1.54\n",
      "|   |   |   |   |   |   |--- 0 <= 1.54\n",
      "|   |   |   |   |   |   |   |--- 0 <= 1.54\n",
      "|   |   |   |   |   |   |   |   |--- class: 0\n",
      "|   |   |   |   |   |   |   |--- 0 >  1.54\n",
      "|   |   |   |   |   |   |   |   |--- class: 0\n",
      "|   |   |   |   |   |   |--- 0 >  1.54\n",
      "|   |   |   |   |   |   |   |--- class: 1\n",
      "|   |   |   |   |--- 0 >  1.55\n",
      "|   |   |   |   |   |--- 0 <= 1.56\n",
      "|   |   |   |   |   |   |--- 0 <= 1.55\n",
      "|   |   |   |   |   |   |   |--- class: 1\n",
      "|   |   |   |   |   |   |--- 0 >  1.55\n",
      "|   |   |   |   |   |   |   |--- class: 1\n",
      "|   |   |   |   |   |--- 0 >  1.56\n",
      "|   |   |   |   |   |   |--- class: 1\n",
      "|   |   |   |--- 0 >  1.56\n",
      "|   |   |   |   |--- 0 <= 2.10\n",
      "|   |   |   |   |   |--- 0 <= 1.57\n",
      "|   |   |   |   |   |   |--- 0 <= 1.57\n",
      "|   |   |   |   |   |   |   |--- 0 <= 1.57\n",
      "|   |   |   |   |   |   |   |   |--- 0 <= 1.56\n",
      "|   |   |   |   |   |   |   |   |   |--- class: 0\n",
      "|   |   |   |   |   |   |   |   |--- 0 >  1.56\n",
      "|   |   |   |   |   |   |   |   |   |--- class: 0\n",
      "|   |   |   |   |   |   |   |--- 0 >  1.57\n",
      "|   |   |   |   |   |   |   |   |--- class: 0\n",
      "|   |   |   |   |   |   |--- 0 >  1.57\n",
      "|   |   |   |   |   |   |   |--- class: 0\n",
      "|   |   |   |   |   |--- 0 >  1.57\n",
      "|   |   |   |   |   |   |--- 0 <= 1.59\n",
      "|   |   |   |   |   |   |   |--- 0 <= 1.58\n",
      "|   |   |   |   |   |   |   |   |--- class: 0\n",
      "|   |   |   |   |   |   |   |--- 0 >  1.58\n",
      "|   |   |   |   |   |   |   |   |--- 0 <= 1.59\n",
      "|   |   |   |   |   |   |   |   |   |--- 0 <= 1.58\n",
      "|   |   |   |   |   |   |   |   |   |   |--- class: 1\n",
      "|   |   |   |   |   |   |   |   |   |--- 0 >  1.58\n",
      "|   |   |   |   |   |   |   |   |   |   |--- class: 1\n",
      "|   |   |   |   |   |   |   |   |--- 0 >  1.59\n",
      "|   |   |   |   |   |   |   |   |   |--- class: 0\n",
      "|   |   |   |   |   |   |--- 0 >  1.59\n",
      "|   |   |   |   |   |   |   |--- 0 <= 1.64\n",
      "|   |   |   |   |   |   |   |   |--- 0 <= 1.62\n",
      "|   |   |   |   |   |   |   |   |   |--- 0 <= 1.61\n",
      "|   |   |   |   |   |   |   |   |   |   |--- 0 <= 1.59\n",
      "|   |   |   |   |   |   |   |   |   |   |   |--- class: 0\n",
      "|   |   |   |   |   |   |   |   |   |   |--- 0 >  1.59\n",
      "|   |   |   |   |   |   |   |   |   |   |   |--- truncated branch of depth 4\n",
      "|   |   |   |   |   |   |   |   |   |--- 0 >  1.61\n",
      "|   |   |   |   |   |   |   |   |   |   |--- class: 1\n",
      "|   |   |   |   |   |   |   |   |--- 0 >  1.62\n",
      "|   |   |   |   |   |   |   |   |   |--- 0 <= 1.62\n",
      "|   |   |   |   |   |   |   |   |   |   |--- class: 0\n",
      "|   |   |   |   |   |   |   |   |   |--- 0 >  1.62\n",
      "|   |   |   |   |   |   |   |   |   |   |--- 0 <= 1.63\n",
      "|   |   |   |   |   |   |   |   |   |   |   |--- class: 0\n",
      "|   |   |   |   |   |   |   |   |   |   |--- 0 >  1.63\n",
      "|   |   |   |   |   |   |   |   |   |   |   |--- truncated branch of depth 3\n",
      "|   |   |   |   |   |   |   |--- 0 >  1.64\n",
      "|   |   |   |   |   |   |   |   |--- 0 <= 1.74\n",
      "|   |   |   |   |   |   |   |   |   |--- 0 <= 1.72\n",
      "|   |   |   |   |   |   |   |   |   |   |--- 0 <= 1.66\n",
      "|   |   |   |   |   |   |   |   |   |   |   |--- truncated branch of depth 6\n",
      "|   |   |   |   |   |   |   |   |   |   |--- 0 >  1.66\n",
      "|   |   |   |   |   |   |   |   |   |   |   |--- truncated branch of depth 8\n",
      "|   |   |   |   |   |   |   |   |   |--- 0 >  1.72\n",
      "|   |   |   |   |   |   |   |   |   |   |--- 0 <= 1.74\n",
      "|   |   |   |   |   |   |   |   |   |   |   |--- truncated branch of depth 4\n",
      "|   |   |   |   |   |   |   |   |   |   |--- 0 >  1.74\n",
      "|   |   |   |   |   |   |   |   |   |   |   |--- truncated branch of depth 2\n",
      "|   |   |   |   |   |   |   |   |--- 0 >  1.74\n",
      "|   |   |   |   |   |   |   |   |   |--- 0 <= 1.81\n",
      "|   |   |   |   |   |   |   |   |   |   |--- 0 <= 1.78\n",
      "|   |   |   |   |   |   |   |   |   |   |   |--- truncated branch of depth 6\n",
      "|   |   |   |   |   |   |   |   |   |   |--- 0 >  1.78\n",
      "|   |   |   |   |   |   |   |   |   |   |   |--- truncated branch of depth 6\n",
      "|   |   |   |   |   |   |   |   |   |--- 0 >  1.81\n",
      "|   |   |   |   |   |   |   |   |   |   |--- 0 <= 1.82\n",
      "|   |   |   |   |   |   |   |   |   |   |   |--- truncated branch of depth 2\n",
      "|   |   |   |   |   |   |   |   |   |   |--- 0 >  1.82\n",
      "|   |   |   |   |   |   |   |   |   |   |   |--- truncated branch of depth 15\n",
      "|   |   |   |   |--- 0 >  2.10\n",
      "|   |   |   |   |   |--- class: 0\n",
      "|   |--- 0 >  2.11\n",
      "|   |   |--- 0 <= 11.37\n",
      "|   |   |   |--- 0 <= 4.72\n",
      "|   |   |   |   |--- 0 <= 4.66\n",
      "|   |   |   |   |   |--- 0 <= 2.19\n",
      "|   |   |   |   |   |   |--- 0 <= 2.16\n",
      "|   |   |   |   |   |   |   |--- 0 <= 2.12\n",
      "|   |   |   |   |   |   |   |   |--- 0 <= 2.11\n",
      "|   |   |   |   |   |   |   |   |   |--- class: 1\n",
      "|   |   |   |   |   |   |   |   |--- 0 >  2.11\n",
      "|   |   |   |   |   |   |   |   |   |--- class: 1\n",
      "|   |   |   |   |   |   |   |--- 0 >  2.12\n",
      "|   |   |   |   |   |   |   |   |--- 0 <= 2.14\n",
      "|   |   |   |   |   |   |   |   |   |--- 0 <= 2.12\n",
      "|   |   |   |   |   |   |   |   |   |   |--- 0 <= 2.12\n",
      "|   |   |   |   |   |   |   |   |   |   |   |--- class: 0\n",
      "|   |   |   |   |   |   |   |   |   |   |--- 0 >  2.12\n",
      "|   |   |   |   |   |   |   |   |   |   |   |--- class: 0\n",
      "|   |   |   |   |   |   |   |   |   |--- 0 >  2.12\n",
      "|   |   |   |   |   |   |   |   |   |   |--- 0 <= 2.13\n",
      "|   |   |   |   |   |   |   |   |   |   |   |--- class: 1\n",
      "|   |   |   |   |   |   |   |   |   |   |--- 0 >  2.13\n",
      "|   |   |   |   |   |   |   |   |   |   |   |--- truncated branch of depth 2\n",
      "|   |   |   |   |   |   |   |   |--- 0 >  2.14\n",
      "|   |   |   |   |   |   |   |   |   |--- 0 <= 2.14\n",
      "|   |   |   |   |   |   |   |   |   |   |--- class: 1\n",
      "|   |   |   |   |   |   |   |   |   |--- 0 >  2.14\n",
      "|   |   |   |   |   |   |   |   |   |   |--- 0 <= 2.14\n",
      "|   |   |   |   |   |   |   |   |   |   |   |--- class: 0\n",
      "|   |   |   |   |   |   |   |   |   |   |--- 0 >  2.14\n",
      "|   |   |   |   |   |   |   |   |   |   |   |--- truncated branch of depth 4\n",
      "|   |   |   |   |   |   |--- 0 >  2.16\n",
      "|   |   |   |   |   |   |   |--- 0 <= 2.18\n",
      "|   |   |   |   |   |   |   |   |--- 0 <= 2.16\n",
      "|   |   |   |   |   |   |   |   |   |--- class: 0\n",
      "|   |   |   |   |   |   |   |   |--- 0 >  2.16\n",
      "|   |   |   |   |   |   |   |   |   |--- 0 <= 2.17\n",
      "|   |   |   |   |   |   |   |   |   |   |--- 0 <= 2.17\n",
      "|   |   |   |   |   |   |   |   |   |   |   |--- class: 0\n",
      "|   |   |   |   |   |   |   |   |   |   |--- 0 >  2.17\n",
      "|   |   |   |   |   |   |   |   |   |   |   |--- class: 0\n",
      "|   |   |   |   |   |   |   |   |   |--- 0 >  2.17\n",
      "|   |   |   |   |   |   |   |   |   |   |--- 0 <= 2.17\n",
      "|   |   |   |   |   |   |   |   |   |   |   |--- class: 0\n",
      "|   |   |   |   |   |   |   |   |   |   |--- 0 >  2.17\n",
      "|   |   |   |   |   |   |   |   |   |   |   |--- truncated branch of depth 2\n",
      "|   |   |   |   |   |   |   |--- 0 >  2.18\n",
      "|   |   |   |   |   |   |   |   |--- class: 0\n",
      "|   |   |   |   |   |--- 0 >  2.19\n",
      "|   |   |   |   |   |   |--- 0 <= 3.44\n",
      "|   |   |   |   |   |   |   |--- 0 <= 3.30\n",
      "|   |   |   |   |   |   |   |   |--- 0 <= 3.23\n",
      "|   |   |   |   |   |   |   |   |   |--- 0 <= 2.20\n",
      "|   |   |   |   |   |   |   |   |   |   |--- 0 <= 2.19\n",
      "|   |   |   |   |   |   |   |   |   |   |   |--- truncated branch of depth 2\n",
      "|   |   |   |   |   |   |   |   |   |   |--- 0 >  2.19\n",
      "|   |   |   |   |   |   |   |   |   |   |   |--- class: 1\n",
      "|   |   |   |   |   |   |   |   |   |--- 0 >  2.20\n",
      "|   |   |   |   |   |   |   |   |   |   |--- 0 <= 2.21\n",
      "|   |   |   |   |   |   |   |   |   |   |   |--- truncated branch of depth 3\n",
      "|   |   |   |   |   |   |   |   |   |   |--- 0 >  2.21\n",
      "|   |   |   |   |   |   |   |   |   |   |   |--- truncated branch of depth 20\n",
      "|   |   |   |   |   |   |   |   |--- 0 >  3.23\n",
      "|   |   |   |   |   |   |   |   |   |--- 0 <= 3.23\n",
      "|   |   |   |   |   |   |   |   |   |   |--- class: 0\n",
      "|   |   |   |   |   |   |   |   |   |--- 0 >  3.23\n",
      "|   |   |   |   |   |   |   |   |   |   |--- 0 <= 3.27\n",
      "|   |   |   |   |   |   |   |   |   |   |   |--- truncated branch of depth 4\n",
      "|   |   |   |   |   |   |   |   |   |   |--- 0 >  3.27\n",
      "|   |   |   |   |   |   |   |   |   |   |   |--- truncated branch of depth 3\n",
      "|   |   |   |   |   |   |   |--- 0 >  3.30\n",
      "|   |   |   |   |   |   |   |   |--- 0 <= 3.40\n",
      "|   |   |   |   |   |   |   |   |   |--- 0 <= 3.31\n",
      "|   |   |   |   |   |   |   |   |   |   |--- class: 1\n",
      "|   |   |   |   |   |   |   |   |   |--- 0 >  3.31\n",
      "|   |   |   |   |   |   |   |   |   |   |--- 0 <= 3.35\n",
      "|   |   |   |   |   |   |   |   |   |   |   |--- truncated branch of depth 5\n",
      "|   |   |   |   |   |   |   |   |   |   |--- 0 >  3.35\n",
      "|   |   |   |   |   |   |   |   |   |   |   |--- truncated branch of depth 8\n",
      "|   |   |   |   |   |   |   |   |--- 0 >  3.40\n",
      "|   |   |   |   |   |   |   |   |   |--- 0 <= 3.42\n",
      "|   |   |   |   |   |   |   |   |   |   |--- class: 0\n",
      "|   |   |   |   |   |   |   |   |   |--- 0 >  3.42\n",
      "|   |   |   |   |   |   |   |   |   |   |--- 0 <= 3.43\n",
      "|   |   |   |   |   |   |   |   |   |   |   |--- truncated branch of depth 3\n",
      "|   |   |   |   |   |   |   |   |   |   |--- 0 >  3.43\n",
      "|   |   |   |   |   |   |   |   |   |   |   |--- class: 1\n",
      "|   |   |   |   |   |   |--- 0 >  3.44\n",
      "|   |   |   |   |   |   |   |--- 0 <= 3.62\n",
      "|   |   |   |   |   |   |   |   |--- 0 <= 3.50\n",
      "|   |   |   |   |   |   |   |   |   |--- 0 <= 3.46\n",
      "|   |   |   |   |   |   |   |   |   |   |--- class: 0\n",
      "|   |   |   |   |   |   |   |   |   |--- 0 >  3.46\n",
      "|   |   |   |   |   |   |   |   |   |   |--- class: 0\n",
      "|   |   |   |   |   |   |   |   |--- 0 >  3.50\n",
      "|   |   |   |   |   |   |   |   |   |--- 0 <= 3.59\n",
      "|   |   |   |   |   |   |   |   |   |   |--- 0 <= 3.57\n",
      "|   |   |   |   |   |   |   |   |   |   |   |--- truncated branch of depth 6\n",
      "|   |   |   |   |   |   |   |   |   |   |--- 0 >  3.57\n",
      "|   |   |   |   |   |   |   |   |   |   |   |--- truncated branch of depth 4\n",
      "|   |   |   |   |   |   |   |   |   |--- 0 >  3.59\n",
      "|   |   |   |   |   |   |   |   |   |   |--- class: 0\n",
      "|   |   |   |   |   |   |   |--- 0 >  3.62\n",
      "|   |   |   |   |   |   |   |   |--- 0 <= 3.68\n",
      "|   |   |   |   |   |   |   |   |   |--- 0 <= 3.63\n",
      "|   |   |   |   |   |   |   |   |   |   |--- class: 1\n",
      "|   |   |   |   |   |   |   |   |   |--- 0 >  3.63\n",
      "|   |   |   |   |   |   |   |   |   |   |--- 0 <= 3.66\n",
      "|   |   |   |   |   |   |   |   |   |   |   |--- truncated branch of depth 4\n",
      "|   |   |   |   |   |   |   |   |   |   |--- 0 >  3.66\n",
      "|   |   |   |   |   |   |   |   |   |   |   |--- class: 1\n",
      "|   |   |   |   |   |   |   |   |--- 0 >  3.68\n",
      "|   |   |   |   |   |   |   |   |   |--- 0 <= 4.64\n",
      "|   |   |   |   |   |   |   |   |   |   |--- 0 <= 3.97\n",
      "|   |   |   |   |   |   |   |   |   |   |   |--- truncated branch of depth 12\n",
      "|   |   |   |   |   |   |   |   |   |   |--- 0 >  3.97\n",
      "|   |   |   |   |   |   |   |   |   |   |   |--- truncated branch of depth 15\n",
      "|   |   |   |   |   |   |   |   |   |--- 0 >  4.64\n",
      "|   |   |   |   |   |   |   |   |   |   |--- class: 1\n",
      "|   |   |   |   |--- 0 >  4.66\n",
      "|   |   |   |   |   |--- 0 <= 4.69\n",
      "|   |   |   |   |   |   |--- class: 0\n",
      "|   |   |   |   |   |--- 0 >  4.69\n",
      "|   |   |   |   |   |   |--- 0 <= 4.71\n",
      "|   |   |   |   |   |   |   |--- class: 1\n",
      "|   |   |   |   |   |   |--- 0 >  4.71\n",
      "|   |   |   |   |   |   |   |--- class: 0\n",
      "|   |   |   |--- 0 >  4.72\n",
      "|   |   |   |   |--- 0 <= 4.78\n",
      "|   |   |   |   |   |--- class: 1\n",
      "|   |   |   |   |--- 0 >  4.78\n",
      "|   |   |   |   |   |--- 0 <= 6.57\n",
      "|   |   |   |   |   |   |--- 0 <= 5.68\n",
      "|   |   |   |   |   |   |   |--- 0 <= 5.07\n",
      "|   |   |   |   |   |   |   |   |--- 0 <= 5.06\n",
      "|   |   |   |   |   |   |   |   |   |--- 0 <= 4.97\n",
      "|   |   |   |   |   |   |   |   |   |   |--- 0 <= 4.95\n",
      "|   |   |   |   |   |   |   |   |   |   |   |--- truncated branch of depth 5\n",
      "|   |   |   |   |   |   |   |   |   |   |--- 0 >  4.95\n",
      "|   |   |   |   |   |   |   |   |   |   |   |--- class: 0\n",
      "|   |   |   |   |   |   |   |   |   |--- 0 >  4.97\n",
      "|   |   |   |   |   |   |   |   |   |   |--- 0 <= 5.05\n",
      "|   |   |   |   |   |   |   |   |   |   |   |--- class: 1\n",
      "|   |   |   |   |   |   |   |   |   |   |--- 0 >  5.05\n",
      "|   |   |   |   |   |   |   |   |   |   |   |--- truncated branch of depth 2\n",
      "|   |   |   |   |   |   |   |   |--- 0 >  5.06\n",
      "|   |   |   |   |   |   |   |   |   |--- class: 0\n",
      "|   |   |   |   |   |   |   |--- 0 >  5.07\n",
      "|   |   |   |   |   |   |   |   |--- 0 <= 5.44\n",
      "|   |   |   |   |   |   |   |   |   |--- 0 <= 5.31\n",
      "|   |   |   |   |   |   |   |   |   |   |--- 0 <= 5.19\n",
      "|   |   |   |   |   |   |   |   |   |   |   |--- class: 1\n",
      "|   |   |   |   |   |   |   |   |   |   |--- 0 >  5.19\n",
      "|   |   |   |   |   |   |   |   |   |   |   |--- truncated branch of depth 2\n",
      "|   |   |   |   |   |   |   |   |   |--- 0 >  5.31\n",
      "|   |   |   |   |   |   |   |   |   |   |--- 0 <= 5.43\n",
      "|   |   |   |   |   |   |   |   |   |   |   |--- truncated branch of depth 6\n",
      "|   |   |   |   |   |   |   |   |   |   |--- 0 >  5.43\n",
      "|   |   |   |   |   |   |   |   |   |   |   |--- class: 0\n",
      "|   |   |   |   |   |   |   |   |--- 0 >  5.44\n",
      "|   |   |   |   |   |   |   |   |   |--- class: 1\n",
      "|   |   |   |   |   |   |--- 0 >  5.68\n",
      "|   |   |   |   |   |   |   |--- 0 <= 5.78\n",
      "|   |   |   |   |   |   |   |   |--- class: 0\n",
      "|   |   |   |   |   |   |   |--- 0 >  5.78\n",
      "|   |   |   |   |   |   |   |   |--- 0 <= 6.21\n",
      "|   |   |   |   |   |   |   |   |   |--- 0 <= 6.02\n",
      "|   |   |   |   |   |   |   |   |   |   |--- 0 <= 5.95\n",
      "|   |   |   |   |   |   |   |   |   |   |   |--- truncated branch of depth 5\n",
      "|   |   |   |   |   |   |   |   |   |   |--- 0 >  5.95\n",
      "|   |   |   |   |   |   |   |   |   |   |   |--- class: 0\n",
      "|   |   |   |   |   |   |   |   |   |--- 0 >  6.02\n",
      "|   |   |   |   |   |   |   |   |   |   |--- 0 <= 6.12\n",
      "|   |   |   |   |   |   |   |   |   |   |   |--- class: 1\n",
      "|   |   |   |   |   |   |   |   |   |   |--- 0 >  6.12\n",
      "|   |   |   |   |   |   |   |   |   |   |   |--- truncated branch of depth 4\n",
      "|   |   |   |   |   |   |   |   |--- 0 >  6.21\n",
      "|   |   |   |   |   |   |   |   |   |--- 0 <= 6.53\n",
      "|   |   |   |   |   |   |   |   |   |   |--- class: 0\n",
      "|   |   |   |   |   |   |   |   |   |--- 0 >  6.53\n",
      "|   |   |   |   |   |   |   |   |   |   |--- 0 <= 6.55\n",
      "|   |   |   |   |   |   |   |   |   |   |   |--- class: 1\n",
      "|   |   |   |   |   |   |   |   |   |   |--- 0 >  6.55\n",
      "|   |   |   |   |   |   |   |   |   |   |   |--- class: 0\n",
      "|   |   |   |   |   |--- 0 >  6.57\n",
      "|   |   |   |   |   |   |--- 0 <= 7.40\n",
      "|   |   |   |   |   |   |   |--- 0 <= 6.94\n",
      "|   |   |   |   |   |   |   |   |--- 0 <= 6.86\n",
      "|   |   |   |   |   |   |   |   |   |--- 0 <= 6.71\n",
      "|   |   |   |   |   |   |   |   |   |   |--- 0 <= 6.63\n",
      "|   |   |   |   |   |   |   |   |   |   |   |--- class: 1\n",
      "|   |   |   |   |   |   |   |   |   |   |--- 0 >  6.63\n",
      "|   |   |   |   |   |   |   |   |   |   |   |--- class: 0\n",
      "|   |   |   |   |   |   |   |   |   |--- 0 >  6.71\n",
      "|   |   |   |   |   |   |   |   |   |   |--- class: 1\n",
      "|   |   |   |   |   |   |   |   |--- 0 >  6.86\n",
      "|   |   |   |   |   |   |   |   |   |--- class: 0\n",
      "|   |   |   |   |   |   |   |--- 0 >  6.94\n",
      "|   |   |   |   |   |   |   |   |--- class: 1\n",
      "|   |   |   |   |   |   |--- 0 >  7.40\n",
      "|   |   |   |   |   |   |   |--- 0 <= 7.45\n",
      "|   |   |   |   |   |   |   |   |--- class: 0\n",
      "|   |   |   |   |   |   |   |--- 0 >  7.45\n",
      "|   |   |   |   |   |   |   |   |--- 0 <= 7.88\n",
      "|   |   |   |   |   |   |   |   |   |--- class: 1\n",
      "|   |   |   |   |   |   |   |   |--- 0 >  7.88\n",
      "|   |   |   |   |   |   |   |   |   |--- 0 <= 8.01\n",
      "|   |   |   |   |   |   |   |   |   |   |--- class: 0\n",
      "|   |   |   |   |   |   |   |   |   |--- 0 >  8.01\n",
      "|   |   |   |   |   |   |   |   |   |   |--- 0 <= 10.14\n",
      "|   |   |   |   |   |   |   |   |   |   |   |--- truncated branch of depth 8\n",
      "|   |   |   |   |   |   |   |   |   |   |--- 0 >  10.14\n",
      "|   |   |   |   |   |   |   |   |   |   |   |--- class: 1\n",
      "|   |   |--- 0 >  11.37\n",
      "|   |   |   |--- 0 <= 12.75\n",
      "|   |   |   |   |--- class: 0\n",
      "|   |   |   |--- 0 >  12.75\n",
      "|   |   |   |   |--- 0 <= 13.28\n",
      "|   |   |   |   |   |--- class: 1\n",
      "|   |   |   |   |--- 0 >  13.28\n",
      "|   |   |   |   |   |--- class: 0\n",
      "\n"
     ]
    }
   ],
   "source": [
    "# Print the tree in a simplified version.\n",
    "r = export_text(tr, feature_names=X.columns.tolist())\n",
    "print(r)"
   ]
  },
  {
   "cell_type": "code",
   "execution_count": 109,
   "metadata": {},
   "outputs": [],
   "source": [
    "# Make predictions.\n",
    "tr_pred = tr.predict(X_test)\n",
    "\n",
    "# CV score for Decision tree\n",
    "cv_tr = cross_val_score(tr, X, y, cv=10).mean()"
   ]
  },
  {
   "cell_type": "markdown",
   "metadata": {},
   "source": [
    "## Metrics for Decision tree"
   ]
  },
  {
   "cell_type": "code",
   "execution_count": 110,
   "metadata": {},
   "outputs": [
    {
     "name": "stdout",
     "output_type": "stream",
     "text": [
      "Accuracy: 0.893\n",
      "Cross-validation accuracy: 0.888\n",
      "Precision: 0.520\n",
      "Precision: 0.162\n",
      "F1 score: 0.247\n"
     ]
    }
   ],
   "source": [
    "# Accuracy: 1 is perfect prediction.\n",
    "print('Accuracy: %.3f' % tr.score(X_test, y_test))\n",
    "\n",
    "# Cross-Validation accuracy\n",
    "print('Cross-validation accuracy: %0.3f' % cv_tr)\n",
    "\n",
    "# Precision\n",
    "print('Precision: %.3f' % precision_score(y_test, tr_pred))\n",
    "\n",
    "# Recall\n",
    "print('Precision: %.3f' % recall_score(y_test, tr_pred))\n",
    "\n",
    "# f1 score: best value at 1 (perfect precision and recall) and worst at 0.\n",
    "print('F1 score: %.3f' % f1_score(y_test, tr_pred))"
   ]
  },
  {
   "cell_type": "code",
   "execution_count": 111,
   "metadata": {},
   "outputs": [
    {
     "name": "stdout",
     "output_type": "stream",
     "text": [
      "AUC: 0.74\n"
     ]
    }
   ],
   "source": [
    "# Predict propabilities for the test data.\n",
    "tr_probs = tr.predict_proba(X_test)\n",
    "\n",
    "# Keep Probabilities of the positive class only.\n",
    "tr_probs = tr_probs[:, 1]\n",
    "\n",
    "# Compute the AUC Score.\n",
    "auc_tr = roc_auc_score(y_test, tr_probs)\n",
    "print('AUC: %.2f' % auc_tr)"
   ]
  },
  {
   "cell_type": "markdown",
   "metadata": {},
   "source": [
    "## Confusion Matrix for Decision tree"
   ]
  },
  {
   "cell_type": "code",
   "execution_count": 112,
   "metadata": {},
   "outputs": [
    {
     "data": {
      "image/png": "[encoded data removed]",
      "text/plain": [
       "<Figure size 432x288 with 1 Axes>"
      ]
     },
     "metadata": {
      "needs_background": "light"
     },
     "output_type": "display_data"
    },
    {
     "data": {
      "text/plain": [
       "<matplotlib.axes._subplots.AxesSubplot at 0x1f701b897b8>"
      ]
     },
     "execution_count": 112,
     "metadata": {},
     "output_type": "execute_result"
    }
   ],
   "source": [
    "# Print confusion matrix for Decision tree.\n",
    "cm = ConfusionMatrix(tr, is_fitted=True)\n",
    "cm.score(X_test, y_test)\n",
    "cm.poof()"
   ]
  },
  {
   "cell_type": "code",
   "execution_count": 113,
   "metadata": {
    "scrolled": false
   },
   "outputs": [
    {
     "data": {
      "image/png": "[encoded data removed]",
      "text/plain": [
       "<Figure size 576x576 with 1 Axes>"
      ]
     },
     "metadata": {
      "needs_background": "light"
     },
     "output_type": "display_data"
    }
   ],
   "source": [
    "# Get the ROC Curves.\n",
    "tr_fpr, tr_tpr, tr_thresholds = roc_curve(y_test, tr_probs)\n",
    "\n",
    "# Plot the ROC curves.\n",
    "plt.figure(figsize=(8, 8))\n",
    "plt.plot(tr_fpr, tr_tpr, color='red',\n",
    "         label='Decision tree ROC (AUC= %0.2f)' % auc_tr)\n",
    "plt.plot([0, 1], [0, 1], color='darkblue', linestyle='--', label='random')\n",
    "plt.xlabel('False Positive Rate')\n",
    "plt.ylabel('True Positive Rate')\n",
    "plt.title('Receiver Operating Characteristic (ROC) Curve')\n",
    "plt.legend()\n",
    "plt.show()"
   ]
  },
  {
   "cell_type": "markdown",
   "metadata": {},
   "source": [
    "## Neural network (MLP)"
   ]
  },
  {
   "cell_type": "code",
   "execution_count": 114,
   "metadata": {
    "scrolled": true
   },
   "outputs": [
    {
     "data": {
      "text/plain": [
       "MLPClassifier(activation='relu', alpha=0.0001, batch_size='auto', beta_1=0.9,\n",
       "              beta_2=0.999, early_stopping=False, epsilon=1e-08,\n",
       "              hidden_layer_sizes=10, learning_rate='constant',\n",
       "              learning_rate_init=0.001, max_fun=15000, max_iter=1000,\n",
       "              momentum=0.9, n_iter_no_change=10, nesterovs_momentum=True,\n",
       "              power_t=0.5, random_state=25, shuffle=True, solver='adam',\n",
       "              tol=0.0001, validation_fraction=0.1, verbose=False,\n",
       "              warm_start=False)"
      ]
     },
     "execution_count": 114,
     "metadata": {},
     "output_type": "execute_result"
    }
   ],
   "source": [
    "# Initialize a Multi-layer Perceptron classifier.\n",
    "mlp = MLPClassifier(hidden_layer_sizes=(10), max_iter=1000,\n",
    "                    random_state=25, shuffle=True)\n",
    "\n",
    "# Train the classifier.\n",
    "mlp.fit(X_train, y_train)"
   ]
  },
  {
   "cell_type": "code",
   "execution_count": 115,
   "metadata": {},
   "outputs": [],
   "source": [
    "# Make predictions.\n",
    "mlp_pred = mlp.predict(X_test)\n",
    "\n",
    "# CV score for MLP\n",
    "cv_mlp = cross_val_score(mlp, X, y, cv=10, n_jobs=-1).mean()"
   ]
  },
  {
   "cell_type": "markdown",
   "metadata": {},
   "source": [
    "## Metrics for Neural network (MLP)"
   ]
  },
  {
   "cell_type": "code",
   "execution_count": 116,
   "metadata": {},
   "outputs": [
    {
     "name": "stdout",
     "output_type": "stream",
     "text": [
      "Accuracy: 0.897\n",
      "Cross-validation accuracy: 0.893\n",
      "Precision: 0.596\n",
      "Recall: 0.171\n",
      "F1 score: 0.266\n"
     ]
    }
   ],
   "source": [
    "# Accuracy: 1 is perfect prediction.\n",
    "print('Accuracy: %.3f' % mlp.score(X_test, y_test))\n",
    "\n",
    "# Cross-Validation accuracy\n",
    "print('Cross-validation accuracy: %0.3f' % cv_mlp)\n",
    "\n",
    "# Precision\n",
    "print('Precision: %.3f' % precision_score(y_test, mlp_pred))\n",
    "\n",
    "# Recall\n",
    "print('Recall: %.3f' % recall_score(y_test, mlp_pred))\n",
    "\n",
    "# f1 score: best value at 1 (perfect precision and recall) and worst at 0.\n",
    "print('F1 score: %.3f' % f1_score(y_test, mlp_pred))"
   ]
  },
  {
   "cell_type": "code",
   "execution_count": 117,
   "metadata": {},
   "outputs": [
    {
     "name": "stdout",
     "output_type": "stream",
     "text": [
      "AUC: 0.82\n"
     ]
    }
   ],
   "source": [
    "# Predict probabilities for the test data.\n",
    "mlp_probs = mlp.predict_proba(X_test)\n",
    "\n",
    "# Keep probabilities of the positive class only.\n",
    "mlp_probs = mlp_probs[:, 1]\n",
    "\n",
    "# Compute the AUC Score.\n",
    "auc_mlp = roc_auc_score(y_test, mlp_probs)\n",
    "print('AUC: %.2f' % auc_mlp)"
   ]
  },
  {
   "cell_type": "markdown",
   "metadata": {},
   "source": [
    "## Confusion Matrix for Neural network (MLP)"
   ]
  },
  {
   "cell_type": "code",
   "execution_count": 118,
   "metadata": {},
   "outputs": [
    {
     "data": {
      "image/png": "[encoded data removed]",
      "text/plain": [
       "<Figure size 432x288 with 1 Axes>"
      ]
     },
     "metadata": {
      "needs_background": "light"
     },
     "output_type": "display_data"
    },
    {
     "data": {
      "text/plain": [
       "<matplotlib.axes._subplots.AxesSubplot at 0x1f7705927b8>"
      ]
     },
     "execution_count": 118,
     "metadata": {},
     "output_type": "execute_result"
    }
   ],
   "source": [
    "# Print confusion matrix for Decision tree.\n",
    "cm = ConfusionMatrix(mlp, is_fitted=True)\n",
    "cm.score(X_test, y_test)\n",
    "cm.poof()"
   ]
  },
  {
   "cell_type": "code",
   "execution_count": 119,
   "metadata": {},
   "outputs": [
    {
     "data": {
      "image/png": "[encoded data removed]",
      "text/plain": [
       "<Figure size 576x576 with 1 Axes>"
      ]
     },
     "metadata": {
      "needs_background": "light"
     },
     "output_type": "display_data"
    }
   ],
   "source": [
    "# Get the ROC curves.\n",
    "mlp_fpr, mlp_tpr, mlp_thresholds = roc_curve(y_test, mlp_probs)\n",
    "\n",
    "# Plot the ROC curve.\n",
    "plt.figure(figsize=(8, 8))\n",
    "plt.plot(mlp_fpr, mlp_tpr, color='red', label='MLP ROC (AUC= %0.2f)' % auc_mlp)\n",
    "plt.plot([0, 1], [0, 1], color='darkblue', linestyle='--', label='random')\n",
    "plt.xlabel('False Positive Rate')\n",
    "plt.ylabel('True Positive Rate')\n",
    "plt.title('Receiver Operating Characteristic (ROC) Curve')\n",
    "plt.legend()\n",
    "plt.show()"
   ]
  },
  {
   "cell_type": "markdown",
   "metadata": {},
   "source": [
    "## Results"
   ]
  },
  {
   "cell_type": "code",
   "execution_count": 120,
   "metadata": {},
   "outputs": [
    {
     "data": {
      "application/vnd.plotly.v1+json": {
       "config": {
        "plotlyServerURL": "https://plot.ly"
       },
       "data": [
        {
         "name": "Logistic Regression",
         "type": "bar",
         "x": [
          "Accuracy",
          "CV accuracy",
          "Precision",
          "Recall",
          "F1",
          "AUC"
         ],
         "y": [
          0.8972719177527726,
          0.8923874733496421,
          0.5968586387434555,
          0.16976917349218168,
          0.2643478260869565,
          0.8160667923224201
         ]
        },
        {
         "name": "Decision tree",
         "type": "bar",
         "x": [
          "Accuracy",
          "CV accuracy",
          "Precision",
          "Recall",
          "F1",
          "AUC"
         ],
         "y": [
          0.8926576540111714,
          0.8879918939735421,
          0.5202863961813843,
          0.16232315711094564,
          0.24744608399545967,
          0.7420474042754066
         ]
        },
        {
         "name": "Neural Network",
         "type": "bar",
         "x": [
          "Accuracy",
          "CV accuracy",
          "Precision",
          "Recall",
          "F1",
          "AUC"
         ],
         "y": [
          0.8972719177527726,
          0.8930915571406208,
          0.5958549222797928,
          0.1712583767684289,
          0.26604973973395024,
          0.8160667923224201
         ]
        }
       ],
       "layout": {
        "bargroupgap": 0.05,
        "barmode": "group",
        "template": {
         "data": {
          "bar": [
           {
            "error_x": {
             "color": "#2a3f5f"
            },
            "error_y": {
             "color": "#2a3f5f"
            },
            "marker": {
             "line": {
              "color": "#E5ECF6",
              "width": 0.5
             }
            },
            "type": "bar"
           }
          ],
          "barpolar": [
           {
            "marker": {
             "line": {
              "color": "#E5ECF6",
              "width": 0.5
             }
            },
            "type": "barpolar"
           }
          ],
          "carpet": [
           {
            "aaxis": {
             "endlinecolor": "#2a3f5f",
             "gridcolor": "white",
             "linecolor": "white",
             "minorgridcolor": "white",
             "startlinecolor": "#2a3f5f"
            },
            "baxis": {
             "endlinecolor": "#2a3f5f",
             "gridcolor": "white",
             "linecolor": "white",
             "minorgridcolor": "white",
             "startlinecolor": "#2a3f5f"
            },
            "type": "carpet"
           }
          ],
          "choropleth": [
           {
            "colorbar": {
             "outlinewidth": 0,
             "ticks": ""
            },
            "type": "choropleth"
           }
          ],
          "contour": [
           {
            "colorbar": {
             "outlinewidth": 0,
             "ticks": ""
            },
            "colorscale": [
             [
              0,
              "#0d0887"
             ],
             [
              0.1111111111111111,
              "#46039f"
             ],
             [
              0.2222222222222222,
              "#7201a8"
             ],
             [
              0.3333333333333333,
              "#9c179e"
             ],
             [
              0.4444444444444444,
              "#bd3786"
             ],
             [
              0.5555555555555556,
              "#d8576b"
             ],
             [
              0.6666666666666666,
              "#ed7953"
             ],
             [
              0.7777777777777778,
              "#fb9f3a"
             ],
             [
              0.8888888888888888,
              "#fdca26"
             ],
             [
              1,
              "#f0f921"
             ]
            ],
            "type": "contour"
           }
          ],
          "contourcarpet": [
           {
            "colorbar": {
             "outlinewidth": 0,
             "ticks": ""
            },
            "type": "contourcarpet"
           }
          ],
          "heatmap": [
           {
            "colorbar": {
             "outlinewidth": 0,
             "ticks": ""
            },
            "colorscale": [
             [
              0,
              "#0d0887"
             ],
             [
              0.1111111111111111,
              "#46039f"
             ],
             [
              0.2222222222222222,
              "#7201a8"
             ],
             [
              0.3333333333333333,
              "#9c179e"
             ],
             [
              0.4444444444444444,
              "#bd3786"
             ],
             [
              0.5555555555555556,
              "#d8576b"
             ],
             [
              0.6666666666666666,
              "#ed7953"
             ],
             [
              0.7777777777777778,
              "#fb9f3a"
             ],
             [
              0.8888888888888888,
              "#fdca26"
             ],
             [
              1,
              "#f0f921"
             ]
            ],
            "type": "heatmap"
           }
          ],
          "heatmapgl": [
           {
            "colorbar": {
             "outlinewidth": 0,
             "ticks": ""
            },
            "colorscale": [
             [
              0,
              "#0d0887"
             ],
             [
              0.1111111111111111,
              "#46039f"
             ],
             [
              0.2222222222222222,
              "#7201a8"
             ],
             [
              0.3333333333333333,
              "#9c179e"
             ],
             [
              0.4444444444444444,
              "#bd3786"
             ],
             [
              0.5555555555555556,
              "#d8576b"
             ],
             [
              0.6666666666666666,
              "#ed7953"
             ],
             [
              0.7777777777777778,
              "#fb9f3a"
             ],
             [
              0.8888888888888888,
              "#fdca26"
             ],
             [
              1,
              "#f0f921"
             ]
            ],
            "type": "heatmapgl"
           }
          ],
          "histogram": [
           {
            "marker": {
             "colorbar": {
              "outlinewidth": 0,
              "ticks": ""
             }
            },
            "type": "histogram"
           }
          ],
          "histogram2d": [
           {
            "colorbar": {
             "outlinewidth": 0,
             "ticks": ""
            },
            "colorscale": [
             [
              0,
              "#0d0887"
             ],
             [
              0.1111111111111111,
              "#46039f"
             ],
             [
              0.2222222222222222,
              "#7201a8"
             ],
             [
              0.3333333333333333,
              "#9c179e"
             ],
             [
              0.4444444444444444,
              "#bd3786"
             ],
             [
              0.5555555555555556,
              "#d8576b"
             ],
             [
              0.6666666666666666,
              "#ed7953"
             ],
             [
              0.7777777777777778,
              "#fb9f3a"
             ],
             [
              0.8888888888888888,
              "#fdca26"
             ],
             [
              1,
              "#f0f921"
             ]
            ],
            "type": "histogram2d"
           }
          ],
          "histogram2dcontour": [
           {
            "colorbar": {
             "outlinewidth": 0,
             "ticks": ""
            },
            "colorscale": [
             [
              0,
              "#0d0887"
             ],
             [
              0.1111111111111111,
              "#46039f"
             ],
             [
              0.2222222222222222,
              "#7201a8"
             ],
             [
              0.3333333333333333,
              "#9c179e"
             ],
             [
              0.4444444444444444,
              "#bd3786"
             ],
             [
              0.5555555555555556,
              "#d8576b"
             ],
             [
              0.6666666666666666,
              "#ed7953"
             ],
             [
              0.7777777777777778,
              "#fb9f3a"
             ],
             [
              0.8888888888888888,
              "#fdca26"
             ],
             [
              1,
              "#f0f921"
             ]
            ],
            "type": "histogram2dcontour"
           }
          ],
          "mesh3d": [
           {
            "colorbar": {
             "outlinewidth": 0,
             "ticks": ""
            },
            "type": "mesh3d"
           }
          ],
          "parcoords": [
           {
            "line": {
             "colorbar": {
              "outlinewidth": 0,
              "ticks": ""
             }
            },
            "type": "parcoords"
           }
          ],
          "pie": [
           {
            "automargin": true,
            "type": "pie"
           }
          ],
          "scatter": [
           {
            "marker": {
             "colorbar": {
              "outlinewidth": 0,
              "ticks": ""
             }
            },
            "type": "scatter"
           }
          ],
          "scatter3d": [
           {
            "line": {
             "colorbar": {
              "outlinewidth": 0,
              "ticks": ""
             }
            },
            "marker": {
             "colorbar": {
              "outlinewidth": 0,
              "ticks": ""
             }
            },
            "type": "scatter3d"
           }
          ],
          "scattercarpet": [
           {
            "marker": {
             "colorbar": {
              "outlinewidth": 0,
              "ticks": ""
             }
            },
            "type": "scattercarpet"
           }
          ],
          "scattergeo": [
           {
            "marker": {
             "colorbar": {
              "outlinewidth": 0,
              "ticks": ""
             }
            },
            "type": "scattergeo"
           }
          ],
          "scattergl": [
           {
            "marker": {
             "colorbar": {
              "outlinewidth": 0,
              "ticks": ""
             }
            },
            "type": "scattergl"
           }
          ],
          "scattermapbox": [
           {
            "marker": {
             "colorbar": {
              "outlinewidth": 0,
              "ticks": ""
             }
            },
            "type": "scattermapbox"
           }
          ],
          "scatterpolar": [
           {
            "marker": {
             "colorbar": {
              "outlinewidth": 0,
              "ticks": ""
             }
            },
            "type": "scatterpolar"
           }
          ],
          "scatterpolargl": [
           {
            "marker": {
             "colorbar": {
              "outlinewidth": 0,
              "ticks": ""
             }
            },
            "type": "scatterpolargl"
           }
          ],
          "scatterternary": [
           {
            "marker": {
             "colorbar": {
              "outlinewidth": 0,
              "ticks": ""
             }
            },
            "type": "scatterternary"
           }
          ],
          "surface": [
           {
            "colorbar": {
             "outlinewidth": 0,
             "ticks": ""
            },
            "colorscale": [
             [
              0,
              "#0d0887"
             ],
             [
              0.1111111111111111,
              "#46039f"
             ],
             [
              0.2222222222222222,
              "#7201a8"
             ],
             [
              0.3333333333333333,
              "#9c179e"
             ],
             [
              0.4444444444444444,
              "#bd3786"
             ],
             [
              0.5555555555555556,
              "#d8576b"
             ],
             [
              0.6666666666666666,
              "#ed7953"
             ],
             [
              0.7777777777777778,
              "#fb9f3a"
             ],
             [
              0.8888888888888888,
              "#fdca26"
             ],
             [
              1,
              "#f0f921"
             ]
            ],
            "type": "surface"
           }
          ],
          "table": [
           {
            "cells": {
             "fill": {
              "color": "#EBF0F8"
             },
             "line": {
              "color": "white"
             }
            },
            "header": {
             "fill": {
              "color": "#C8D4E3"
             },
             "line": {
              "color": "white"
             }
            },
            "type": "table"
           }
          ]
         },
         "layout": {
          "annotationdefaults": {
           "arrowcolor": "#2a3f5f",
           "arrowhead": 0,
           "arrowwidth": 1
          },
          "coloraxis": {
           "colorbar": {
            "outlinewidth": 0,
            "ticks": ""
           }
          },
          "colorscale": {
           "diverging": [
            [
             0,
             "#8e0152"
            ],
            [
             0.1,
             "#c51b7d"
            ],
            [
             0.2,
             "#de77ae"
            ],
            [
             0.3,
             "#f1b6da"
            ],
            [
             0.4,
             "#fde0ef"
            ],
            [
             0.5,
             "#f7f7f7"
            ],
            [
             0.6,
             "#e6f5d0"
            ],
            [
             0.7,
             "#b8e186"
            ],
            [
             0.8,
             "#7fbc41"
            ],
            [
             0.9,
             "#4d9221"
            ],
            [
             1,
             "#276419"
            ]
           ],
           "sequential": [
            [
             0,
             "#0d0887"
            ],
            [
             0.1111111111111111,
             "#46039f"
            ],
            [
             0.2222222222222222,
             "#7201a8"
            ],
            [
             0.3333333333333333,
             "#9c179e"
            ],
            [
             0.4444444444444444,
             "#bd3786"
            ],
            [
             0.5555555555555556,
             "#d8576b"
            ],
            [
             0.6666666666666666,
             "#ed7953"
            ],
            [
             0.7777777777777778,
             "#fb9f3a"
            ],
            [
             0.8888888888888888,
             "#fdca26"
            ],
            [
             1,
             "#f0f921"
            ]
           ],
           "sequentialminus": [
            [
             0,
             "#0d0887"
            ],
            [
             0.1111111111111111,
             "#46039f"
            ],
            [
             0.2222222222222222,
             "#7201a8"
            ],
            [
             0.3333333333333333,
             "#9c179e"
            ],
            [
             0.4444444444444444,
             "#bd3786"
            ],
            [
             0.5555555555555556,
             "#d8576b"
            ],
            [
             0.6666666666666666,
             "#ed7953"
            ],
            [
             0.7777777777777778,
             "#fb9f3a"
            ],
            [
             0.8888888888888888,
             "#fdca26"
            ],
            [
             1,
             "#f0f921"
            ]
           ]
          },
          "colorway": [
           "#636efa",
           "#EF553B",
           "#00cc96",
           "#ab63fa",
           "#FFA15A",
           "#19d3f3",
           "#FF6692",
           "#B6E880",
           "#FF97FF",
           "#FECB52"
          ],
          "font": {
           "color": "#2a3f5f"
          },
          "geo": {
           "bgcolor": "white",
           "lakecolor": "white",
           "landcolor": "#E5ECF6",
           "showlakes": true,
           "showland": true,
           "subunitcolor": "white"
          },
          "hoverlabel": {
           "align": "left"
          },
          "hovermode": "closest",
          "mapbox": {
           "style": "light"
          },
          "paper_bgcolor": "white",
          "plot_bgcolor": "#E5ECF6",
          "polar": {
           "angularaxis": {
            "gridcolor": "white",
            "linecolor": "white",
            "ticks": ""
           },
           "bgcolor": "#E5ECF6",
           "radialaxis": {
            "gridcolor": "white",
            "linecolor": "white",
            "ticks": ""
           }
          },
          "scene": {
           "xaxis": {
            "backgroundcolor": "#E5ECF6",
            "gridcolor": "white",
            "gridwidth": 2,
            "linecolor": "white",
            "showbackground": true,
            "ticks": "",
            "zerolinecolor": "white"
           },
           "yaxis": {
            "backgroundcolor": "#E5ECF6",
            "gridcolor": "white",
            "gridwidth": 2,
            "linecolor": "white",
            "showbackground": true,
            "ticks": "",
            "zerolinecolor": "white"
           },
           "zaxis": {
            "backgroundcolor": "#E5ECF6",
            "gridcolor": "white",
            "gridwidth": 2,
            "linecolor": "white",
            "showbackground": true,
            "ticks": "",
            "zerolinecolor": "white"
           }
          },
          "shapedefaults": {
           "line": {
            "color": "#2a3f5f"
           }
          },
          "ternary": {
           "aaxis": {
            "gridcolor": "white",
            "linecolor": "white",
            "ticks": ""
           },
           "baxis": {
            "gridcolor": "white",
            "linecolor": "white",
            "ticks": ""
           },
           "bgcolor": "#E5ECF6",
           "caxis": {
            "gridcolor": "white",
            "linecolor": "white",
            "ticks": ""
           }
          },
          "title": {
           "x": 0.05
          },
          "xaxis": {
           "automargin": true,
           "gridcolor": "white",
           "linecolor": "white",
           "ticks": "",
           "title": {
            "standoff": 15
           },
           "zerolinecolor": "white",
           "zerolinewidth": 2
          },
          "yaxis": {
           "automargin": true,
           "gridcolor": "white",
           "linecolor": "white",
           "ticks": "",
           "title": {
            "standoff": 15
           },
           "zerolinecolor": "white",
           "zerolinewidth": 2
          }
         }
        },
        "title": {
         "text": "Metrics for all models"
        },
        "xaxis": {
         "tickangle": -45
        }
       }
      },
      "text/html": [
       "<div>\n",
       "        \n",
       "        \n",
       "            <div id=\"6f748be3-7cae-4e05-9047-47564b32b6db\" class=\"plotly-graph-div\" style=\"height:525px; width:100%;\"></div>\n",
       "            <script type=\"text/javascript\">\n",
       "                require([\"plotly\"], function(Plotly) {\n",
       "                    window.PLOTLYENV=window.PLOTLYENV || {};\n",
       "                    \n",
       "                if (document.getElementById(\"6f748be3-7cae-4e05-9047-47564b32b6db\")) {\n",
       "                    Plotly.newPlot(\n",
       "                        '6f748be3-7cae-4e05-9047-47564b32b6db',\n",
       "                        [{\"name\": \"Logistic Regression\", \"type\": \"bar\", \"x\": [\"Accuracy\", \"CV accuracy\", \"Precision\", \"Recall\", \"F1\", \"AUC\"], \"y\": [0.8972719177527726, 0.8923874733496421, 0.5968586387434555, 0.16976917349218168, 0.2643478260869565, 0.8160667923224201]}, {\"name\": \"Decision tree\", \"type\": \"bar\", \"x\": [\"Accuracy\", \"CV accuracy\", \"Precision\", \"Recall\", \"F1\", \"AUC\"], \"y\": [0.8926576540111714, 0.8879918939735421, 0.5202863961813843, 0.16232315711094564, 0.24744608399545967, 0.7420474042754066]}, {\"name\": \"Neural Network\", \"type\": \"bar\", \"x\": [\"Accuracy\", \"CV accuracy\", \"Precision\", \"Recall\", \"F1\", \"AUC\"], \"y\": [0.8972719177527726, 0.8930915571406208, 0.5958549222797928, 0.1712583767684289, 0.26604973973395024, 0.8160667923224201]}],\n",
       "                        {\"bargroupgap\": 0.05, \"barmode\": \"group\", \"template\": {\"data\": {\"bar\": [{\"error_x\": {\"color\": \"#2a3f5f\"}, \"error_y\": {\"color\": \"#2a3f5f\"}, \"marker\": {\"line\": {\"color\": \"#E5ECF6\", \"width\": 0.5}}, \"type\": \"bar\"}], \"barpolar\": [{\"marker\": {\"line\": {\"color\": \"#E5ECF6\", \"width\": 0.5}}, \"type\": \"barpolar\"}], \"carpet\": [{\"aaxis\": {\"endlinecolor\": \"#2a3f5f\", \"gridcolor\": \"white\", \"linecolor\": \"white\", \"minorgridcolor\": \"white\", \"startlinecolor\": \"#2a3f5f\"}, \"baxis\": {\"endlinecolor\": \"#2a3f5f\", \"gridcolor\": \"white\", \"linecolor\": \"white\", \"minorgridcolor\": \"white\", \"startlinecolor\": \"#2a3f5f\"}, \"type\": \"carpet\"}], \"choropleth\": [{\"colorbar\": {\"outlinewidth\": 0, \"ticks\": \"\"}, \"type\": \"choropleth\"}], \"contour\": [{\"colorbar\": {\"outlinewidth\": 0, \"ticks\": \"\"}, \"colorscale\": [[0.0, \"#0d0887\"], [0.1111111111111111, \"#46039f\"], [0.2222222222222222, \"#7201a8\"], [0.3333333333333333, \"#9c179e\"], [0.4444444444444444, \"#bd3786\"], [0.5555555555555556, \"#d8576b\"], [0.6666666666666666, \"#ed7953\"], [0.7777777777777778, \"#fb9f3a\"], [0.8888888888888888, \"#fdca26\"], [1.0, \"#f0f921\"]], \"type\": \"contour\"}], \"contourcarpet\": [{\"colorbar\": {\"outlinewidth\": 0, \"ticks\": \"\"}, \"type\": \"contourcarpet\"}], \"heatmap\": [{\"colorbar\": {\"outlinewidth\": 0, \"ticks\": \"\"}, \"colorscale\": [[0.0, \"#0d0887\"], [0.1111111111111111, \"#46039f\"], [0.2222222222222222, \"#7201a8\"], [0.3333333333333333, \"#9c179e\"], [0.4444444444444444, \"#bd3786\"], [0.5555555555555556, \"#d8576b\"], [0.6666666666666666, \"#ed7953\"], [0.7777777777777778, \"#fb9f3a\"], [0.8888888888888888, \"#fdca26\"], [1.0, \"#f0f921\"]], \"type\": \"heatmap\"}], \"heatmapgl\": [{\"colorbar\": {\"outlinewidth\": 0, \"ticks\": \"\"}, \"colorscale\": [[0.0, \"#0d0887\"], [0.1111111111111111, \"#46039f\"], [0.2222222222222222, \"#7201a8\"], [0.3333333333333333, \"#9c179e\"], [0.4444444444444444, \"#bd3786\"], [0.5555555555555556, \"#d8576b\"], [0.6666666666666666, \"#ed7953\"], [0.7777777777777778, \"#fb9f3a\"], [0.8888888888888888, \"#fdca26\"], [1.0, \"#f0f921\"]], \"type\": \"heatmapgl\"}], \"histogram\": [{\"marker\": {\"colorbar\": {\"outlinewidth\": 0, \"ticks\": \"\"}}, \"type\": \"histogram\"}], \"histogram2d\": [{\"colorbar\": {\"outlinewidth\": 0, \"ticks\": \"\"}, \"colorscale\": [[0.0, \"#0d0887\"], [0.1111111111111111, \"#46039f\"], [0.2222222222222222, \"#7201a8\"], [0.3333333333333333, \"#9c179e\"], [0.4444444444444444, \"#bd3786\"], [0.5555555555555556, \"#d8576b\"], [0.6666666666666666, \"#ed7953\"], [0.7777777777777778, \"#fb9f3a\"], [0.8888888888888888, \"#fdca26\"], [1.0, \"#f0f921\"]], \"type\": \"histogram2d\"}], \"histogram2dcontour\": [{\"colorbar\": {\"outlinewidth\": 0, \"ticks\": \"\"}, \"colorscale\": [[0.0, \"#0d0887\"], [0.1111111111111111, \"#46039f\"], [0.2222222222222222, \"#7201a8\"], [0.3333333333333333, \"#9c179e\"], [0.4444444444444444, \"#bd3786\"], [0.5555555555555556, \"#d8576b\"], [0.6666666666666666, \"#ed7953\"], [0.7777777777777778, \"#fb9f3a\"], [0.8888888888888888, \"#fdca26\"], [1.0, \"#f0f921\"]], \"type\": \"histogram2dcontour\"}], \"mesh3d\": [{\"colorbar\": {\"outlinewidth\": 0, \"ticks\": \"\"}, \"type\": \"mesh3d\"}], \"parcoords\": [{\"line\": {\"colorbar\": {\"outlinewidth\": 0, \"ticks\": \"\"}}, \"type\": \"parcoords\"}], \"pie\": [{\"automargin\": true, \"type\": \"pie\"}], \"scatter\": [{\"marker\": {\"colorbar\": {\"outlinewidth\": 0, \"ticks\": \"\"}}, \"type\": \"scatter\"}], \"scatter3d\": [{\"line\": {\"colorbar\": {\"outlinewidth\": 0, \"ticks\": \"\"}}, \"marker\": {\"colorbar\": {\"outlinewidth\": 0, \"ticks\": \"\"}}, \"type\": \"scatter3d\"}], \"scattercarpet\": [{\"marker\": {\"colorbar\": {\"outlinewidth\": 0, \"ticks\": \"\"}}, \"type\": \"scattercarpet\"}], \"scattergeo\": [{\"marker\": {\"colorbar\": {\"outlinewidth\": 0, \"ticks\": \"\"}}, \"type\": \"scattergeo\"}], \"scattergl\": [{\"marker\": {\"colorbar\": {\"outlinewidth\": 0, \"ticks\": \"\"}}, \"type\": \"scattergl\"}], \"scattermapbox\": [{\"marker\": {\"colorbar\": {\"outlinewidth\": 0, \"ticks\": \"\"}}, \"type\": \"scattermapbox\"}], \"scatterpolar\": [{\"marker\": {\"colorbar\": {\"outlinewidth\": 0, \"ticks\": \"\"}}, \"type\": \"scatterpolar\"}], \"scatterpolargl\": [{\"marker\": {\"colorbar\": {\"outlinewidth\": 0, \"ticks\": \"\"}}, \"type\": \"scatterpolargl\"}], \"scatterternary\": [{\"marker\": {\"colorbar\": {\"outlinewidth\": 0, \"ticks\": \"\"}}, \"type\": \"scatterternary\"}], \"surface\": [{\"colorbar\": {\"outlinewidth\": 0, \"ticks\": \"\"}, \"colorscale\": [[0.0, \"#0d0887\"], [0.1111111111111111, \"#46039f\"], [0.2222222222222222, \"#7201a8\"], [0.3333333333333333, \"#9c179e\"], [0.4444444444444444, \"#bd3786\"], [0.5555555555555556, \"#d8576b\"], [0.6666666666666666, \"#ed7953\"], [0.7777777777777778, \"#fb9f3a\"], [0.8888888888888888, \"#fdca26\"], [1.0, \"#f0f921\"]], \"type\": \"surface\"}], \"table\": [{\"cells\": {\"fill\": {\"color\": \"#EBF0F8\"}, \"line\": {\"color\": \"white\"}}, \"header\": {\"fill\": {\"color\": \"#C8D4E3\"}, \"line\": {\"color\": \"white\"}}, \"type\": \"table\"}]}, \"layout\": {\"annotationdefaults\": {\"arrowcolor\": \"#2a3f5f\", \"arrowhead\": 0, \"arrowwidth\": 1}, \"coloraxis\": {\"colorbar\": {\"outlinewidth\": 0, \"ticks\": \"\"}}, \"colorscale\": {\"diverging\": [[0, \"#8e0152\"], [0.1, \"#c51b7d\"], [0.2, \"#de77ae\"], [0.3, \"#f1b6da\"], [0.4, \"#fde0ef\"], [0.5, \"#f7f7f7\"], [0.6, \"#e6f5d0\"], [0.7, \"#b8e186\"], [0.8, \"#7fbc41\"], [0.9, \"#4d9221\"], [1, \"#276419\"]], \"sequential\": [[0.0, \"#0d0887\"], [0.1111111111111111, \"#46039f\"], [0.2222222222222222, \"#7201a8\"], [0.3333333333333333, \"#9c179e\"], [0.4444444444444444, \"#bd3786\"], [0.5555555555555556, \"#d8576b\"], [0.6666666666666666, \"#ed7953\"], [0.7777777777777778, \"#fb9f3a\"], [0.8888888888888888, \"#fdca26\"], [1.0, \"#f0f921\"]], \"sequentialminus\": [[0.0, \"#0d0887\"], [0.1111111111111111, \"#46039f\"], [0.2222222222222222, \"#7201a8\"], [0.3333333333333333, \"#9c179e\"], [0.4444444444444444, \"#bd3786\"], [0.5555555555555556, \"#d8576b\"], [0.6666666666666666, \"#ed7953\"], [0.7777777777777778, \"#fb9f3a\"], [0.8888888888888888, \"#fdca26\"], [1.0, \"#f0f921\"]]}, \"colorway\": [\"#636efa\", \"#EF553B\", \"#00cc96\", \"#ab63fa\", \"#FFA15A\", \"#19d3f3\", \"#FF6692\", \"#B6E880\", \"#FF97FF\", \"#FECB52\"], \"font\": {\"color\": \"#2a3f5f\"}, \"geo\": {\"bgcolor\": \"white\", \"lakecolor\": \"white\", \"landcolor\": \"#E5ECF6\", \"showlakes\": true, \"showland\": true, \"subunitcolor\": \"white\"}, \"hoverlabel\": {\"align\": \"left\"}, \"hovermode\": \"closest\", \"mapbox\": {\"style\": \"light\"}, \"paper_bgcolor\": \"white\", \"plot_bgcolor\": \"#E5ECF6\", \"polar\": {\"angularaxis\": {\"gridcolor\": \"white\", \"linecolor\": \"white\", \"ticks\": \"\"}, \"bgcolor\": \"#E5ECF6\", \"radialaxis\": {\"gridcolor\": \"white\", \"linecolor\": \"white\", \"ticks\": \"\"}}, \"scene\": {\"xaxis\": {\"backgroundcolor\": \"#E5ECF6\", \"gridcolor\": \"white\", \"gridwidth\": 2, \"linecolor\": \"white\", \"showbackground\": true, \"ticks\": \"\", \"zerolinecolor\": \"white\"}, \"yaxis\": {\"backgroundcolor\": \"#E5ECF6\", \"gridcolor\": \"white\", \"gridwidth\": 2, \"linecolor\": \"white\", \"showbackground\": true, \"ticks\": \"\", \"zerolinecolor\": \"white\"}, \"zaxis\": {\"backgroundcolor\": \"#E5ECF6\", \"gridcolor\": \"white\", \"gridwidth\": 2, \"linecolor\": \"white\", \"showbackground\": true, \"ticks\": \"\", \"zerolinecolor\": \"white\"}}, \"shapedefaults\": {\"line\": {\"color\": \"#2a3f5f\"}}, \"ternary\": {\"aaxis\": {\"gridcolor\": \"white\", \"linecolor\": \"white\", \"ticks\": \"\"}, \"baxis\": {\"gridcolor\": \"white\", \"linecolor\": \"white\", \"ticks\": \"\"}, \"bgcolor\": \"#E5ECF6\", \"caxis\": {\"gridcolor\": \"white\", \"linecolor\": \"white\", \"ticks\": \"\"}}, \"title\": {\"x\": 0.05}, \"xaxis\": {\"automargin\": true, \"gridcolor\": \"white\", \"linecolor\": \"white\", \"ticks\": \"\", \"title\": {\"standoff\": 15}, \"zerolinecolor\": \"white\", \"zerolinewidth\": 2}, \"yaxis\": {\"automargin\": true, \"gridcolor\": \"white\", \"linecolor\": \"white\", \"ticks\": \"\", \"title\": {\"standoff\": 15}, \"zerolinecolor\": \"white\", \"zerolinewidth\": 2}}}, \"title\": {\"text\": \"Metrics for all models\"}, \"xaxis\": {\"tickangle\": -45}},\n",
       "                        {\"responsive\": true}\n",
       "                    ).then(function(){\n",
       "                            \n",
       "var gd = document.getElementById('6f748be3-7cae-4e05-9047-47564b32b6db');\n",
       "var x = new MutationObserver(function (mutations, observer) {{\n",
       "        var display = window.getComputedStyle(gd).display;\n",
       "        if (!display || display === 'none') {{\n",
       "            console.log([gd, 'removed!']);\n",
       "            Plotly.purge(gd);\n",
       "            observer.disconnect();\n",
       "        }}\n",
       "}});\n",
       "\n",
       "// Listen for the removal of the full notebook cells\n",
       "var notebookContainer = gd.closest('#notebook-container');\n",
       "if (notebookContainer) {{\n",
       "    x.observe(notebookContainer, {childList: true});\n",
       "}}\n",
       "\n",
       "// Listen for the clearing of the current output cell\n",
       "var outputEl = gd.closest('.output');\n",
       "if (outputEl) {{\n",
       "    x.observe(outputEl, {childList: true});\n",
       "}}\n",
       "\n",
       "                        })\n",
       "                };\n",
       "                });\n",
       "            </script>\n",
       "        </div>"
      ]
     },
     "metadata": {},
     "output_type": "display_data"
    }
   ],
   "source": [
    "metrics = ['Accuracy', 'CV accuracy', 'Precision', 'Recall', 'F1', 'AUC']\n",
    "\n",
    "# Plot metrics.\n",
    "fig = go.Figure(data=[\n",
    "    go.Bar(name='Logistic Regression', x=metrics,\n",
    "           y=[logreg.score(X_test, y_test), cv_logreg, precision_score(y_test, log_pred), recall_score(y_test, log_pred), f1_score(y_test, log_pred), auc_logreg]),\n",
    "    go.Bar(name='Decision tree', x=metrics,\n",
    "           y=[tr.score(X_test, y_test), cv_tr, precision_score(y_test, tr_pred), recall_score(y_test, tr_pred), f1_score(y_test, tr_pred), auc_tr]),\n",
    "    go.Bar(name='Neural Network', x=metrics,\n",
    "           y=[mlp.score(X_test, y_test), cv_mlp, precision_score(y_test, mlp_pred), recall_score(y_test, mlp_pred), f1_score(y_test, mlp_pred), auc_mlp]),\n",
    "])\n",
    "\n",
    "fig.update_layout(title_text='Metrics for all models',\n",
    "                  barmode='group', xaxis_tickangle=-45, bargroupgap=0.05)\n",
    "fig.show()"
   ]
  },
  {
   "cell_type": "code",
   "execution_count": 121,
   "metadata": {},
   "outputs": [
    {
     "data": {
      "image/png": "[encoded data removed]",
      "text/plain": [
       "<Figure size 576x576 with 1 Axes>"
      ]
     },
     "metadata": {
      "needs_background": "light"
     },
     "output_type": "display_data"
    }
   ],
   "source": [
    "# Plot the ROC curve.\n",
    "plt.figure(figsize=(8, 8))\n",
    "plt.plot(mlp_fpr, mlp_tpr, color='blue',\n",
    "         label='MLP ROC (AUC= %0.3f)' % auc_mlp)\n",
    "plt.plot(tr_fpr, tr_tpr, color='green',\n",
    "         label='Decision tree ROC (AUC= %0.3f)' % auc_tr)\n",
    "plt.plot(logreg_fpr, logreg_tpr, color='red',\n",
    "         label='LogReg ROC (AUC= %0.3f)' % auc_logreg)\n",
    "plt.plot([0, 1], [0, 1], color='black', linestyle='--', label='random')\n",
    "plt.xlabel('False Positive Rate')\n",
    "plt.ylabel('True Positive Rate')\n",
    "plt.title('Receiver Operating Characteristic (ROC) Curves\\n for each model')\n",
    "plt.legend()\n",
    "plt.show()"
   ]
  },
  {
   "cell_type": "code",
   "execution_count": 122,
   "metadata": {
    "scrolled": false
   },
   "outputs": [
    {
     "data": {
      "text/html": [
       "<div>\n",
       "<style scoped>\n",
       "    .dataframe tbody tr th:only-of-type {\n",
       "        vertical-align: middle;\n",
       "    }\n",
       "\n",
       "    .dataframe tbody tr th {\n",
       "        vertical-align: top;\n",
       "    }\n",
       "\n",
       "    .dataframe thead th {\n",
       "        text-align: right;\n",
       "    }\n",
       "</style>\n",
       "<table border=\"1\" class=\"dataframe\">\n",
       "  <thead>\n",
       "    <tr style=\"text-align: right;\">\n",
       "      <th></th>\n",
       "      <th>Accuracy</th>\n",
       "      <th>CV Accuracy</th>\n",
       "      <th>Precision</th>\n",
       "      <th>Recall</th>\n",
       "      <th>F1</th>\n",
       "      <th>AUC</th>\n",
       "    </tr>\n",
       "    <tr>\n",
       "      <th>Models</th>\n",
       "      <th></th>\n",
       "      <th></th>\n",
       "      <th></th>\n",
       "      <th></th>\n",
       "      <th></th>\n",
       "      <th></th>\n",
       "    </tr>\n",
       "  </thead>\n",
       "  <tbody>\n",
       "    <tr>\n",
       "      <th>Logistic Regression</th>\n",
       "      <td>0.897</td>\n",
       "      <td>0.892</td>\n",
       "      <td>0.597</td>\n",
       "      <td>0.170</td>\n",
       "      <td>0.264</td>\n",
       "      <td>0.816</td>\n",
       "    </tr>\n",
       "    <tr>\n",
       "      <th>Decision Tree</th>\n",
       "      <td>0.893</td>\n",
       "      <td>0.888</td>\n",
       "      <td>0.520</td>\n",
       "      <td>0.162</td>\n",
       "      <td>0.247</td>\n",
       "      <td>0.742</td>\n",
       "    </tr>\n",
       "    <tr>\n",
       "      <th>Neural Network (MLP)</th>\n",
       "      <td>0.897</td>\n",
       "      <td>0.893</td>\n",
       "      <td>0.596</td>\n",
       "      <td>0.171</td>\n",
       "      <td>0.266</td>\n",
       "      <td>0.816</td>\n",
       "    </tr>\n",
       "  </tbody>\n",
       "</table>\n",
       "</div>"
      ],
      "text/plain": [
       "                      Accuracy  CV Accuracy  Precision  Recall     F1    AUC\n",
       "Models                                                                      \n",
       "Logistic Regression      0.897        0.892      0.597   0.170  0.264  0.816\n",
       "Decision Tree            0.893        0.888      0.520   0.162  0.247  0.742\n",
       "Neural Network (MLP)     0.897        0.893      0.596   0.171  0.266  0.816"
      ]
     },
     "execution_count": 122,
     "metadata": {},
     "output_type": "execute_result"
    }
   ],
   "source": [
    "d = {\n",
    "    'Models': ['Logistic Regression', 'Decision Tree', 'Neural Network (MLP)'],\n",
    "    'Accuracy': [logreg.score(X_test, y_test), tr.score(X_test, y_test), mlp.score(X_test, y_test)],\n",
    "    'CV Accuracy': [cv_logreg, cv_tr, cv_mlp],\n",
    "    'Precision': [precision_score(y_test, log_pred), precision_score(y_test, tr_pred), precision_score(y_test, mlp_pred)],\n",
    "    'Recall': [recall_score(y_test, log_pred), recall_score(y_test, tr_pred), recall_score(y_test, mlp_pred)],\n",
    "    'F1': [f1_score(y_test, log_pred), f1_score(y_test, tr_pred), f1_score(y_test, mlp_pred)],\n",
    "    'AUC': [auc_logreg, auc_tr, auc_mlp]\n",
    "}\n",
    "\n",
    "results = pd.DataFrame(data=d).round(3).set_index('Models')\n",
    "results"
   ]
  },
  {
   "cell_type": "markdown",
   "metadata": {},
   "source": [
    "## S. Moro, P. Cortez and P. Rita Results\n",
    "\n",
    "\n",
    "|                     | AUC   |\n",
    "|---------------------|-------|\n",
    "| Logistic Regression | 0.900 |\n",
    "| Decision tree       | 0.833 |\n",
    "| Neural Network      | 0.929 |"
   ]
  },
  {
   "cell_type": "markdown",
   "metadata": {},
   "source": [
    "## Evaluating Performance\n",
    "\n",
    "### Hypothesis Testing\n",
    "- $H_{0}$: There is no significant difference in the test set error rate of two supervised learner models $M_{1}$ and $M_{2}$ built with the same training data.\n",
    "- $H_{1}$: There is significant difference in the test set error rate of two supervised learner models $M_{1}$ and $M_{2}$ built with the same training data.\n",
    "\n",
    "### Comparing models with a single test set\n",
    "\n",
    "**Step 1.** (Initialization). Given:\n",
    "- Two models, $M_{1}$ and $M_{2}$ built with the same training data.\n",
    "- One test set $A$ with $card(A)=n$.\n",
    "- Error rate $E_{1}$ for model $M_{1}$ on test set $A$.\n",
    "- Error rate $E_{2}$ for model $M_{2}$ on test set $A$.\n",
    "\n",
    "**Step 2.** Compute:  \n",
    "\n",
    "$$P=\\frac{|E_{1}-E_{2}|}{\\sqrt{\\frac{(v_{1}+v_{2})}{n}}}$$\n",
    "\n",
    "**Step 3.** Conclude:  \n",
    "If $P≥2$, hypothesis $H_{1}$ holds. Otherwise, $H_{0}$ is true.\n"
   ]
  },
  {
   "cell_type": "code",
   "execution_count": 123,
   "metadata": {},
   "outputs": [],
   "source": [
    "from itertools import combinations\n",
    "\n",
    "# Dictionary with all the classifiers.\n",
    "models = {'LogisticRegression': logreg,\n",
    "          'DecisionTreeClassifier': tr,\n",
    "          'MLPClassifier': mlp\n",
    "          }\n",
    "\n",
    "def evaluating_performance(models=None):\n",
    "    if models == None:\n",
    "        return 'No models to compare'\n",
    "    else:\n",
    "        for model in combinations(models.keys(), 2):\n",
    "            confusion1 = confusion_matrix(\n",
    "                y_test, models[model[0]].predict(X_test))\n",
    "            TP1 = confusion1[1, 1]\n",
    "            TN1 = confusion1[0, 0]\n",
    "            FP1 = confusion1[0, 1]\n",
    "            FN1 = confusion1[1, 0]\n",
    "            E1 = (FP1+FN1)/len(X_test)\n",
    "            confusion2 = confusion_matrix(\n",
    "                y_test, models[model[1]].predict(X_test))\n",
    "            TP2 = confusion2[1, 1]\n",
    "            TN2 = confusion2[0, 0]\n",
    "            FP2 = confusion2[0, 1]\n",
    "            FN2 = confusion2[1, 0]\n",
    "            E2 = (FP2+FN2)/len(X_test)\n",
    "            var1 = E1*(1-E1)\n",
    "            var2 = E2*(1-E2)\n",
    "            n = len(X_test)\n",
    "            P = abs(E1-E2)/np.sqrt((var1+var2)/n)\n",
    "            print(\n",
    "                f'Comparing Performance between {model[0]} and {model[1]}:', P.round(3))\n",
    "            if P < 2:\n",
    "                print(\n",
    "                    f'There is no significant diferrence between {model[0]} and {model[1]}\\n')\n",
    "            else:\n",
    "                print(\n",
    "                    f'==>The models {model[0]} and {model[1]} are significant different<==\\n')"
   ]
  },
  {
   "cell_type": "code",
   "execution_count": 124,
   "metadata": {},
   "outputs": [
    {
     "name": "stdout",
     "output_type": "stream",
     "text": [
      "Comparing Performance between LogisticRegression and DecisionTreeClassifier: 1.183\n",
      "There is no significant diferrence between LogisticRegression and DecisionTreeClassifier\n",
      "\n",
      "Comparing Performance between LogisticRegression and MLPClassifier: 0.0\n",
      "There is no significant diferrence between LogisticRegression and MLPClassifier\n",
      "\n",
      "Comparing Performance between DecisionTreeClassifier and MLPClassifier: 1.183\n",
      "There is no significant diferrence between DecisionTreeClassifier and MLPClassifier\n",
      "\n"
     ]
    }
   ],
   "source": [
    "evaluating_performance(models)"
   ]
  },
  {
   "cell_type": "markdown",
   "metadata": {},
   "source": [
    "***"
   ]
  }
 ],
 "metadata": {
  "hide_input": false,
  "kernelspec": {
   "display_name": "Python 3",
   "language": "python",
   "name": "python3"
  },
  "language_info": {
   "codemirror_mode": {
    "name": "ipython",
    "version": 3
   },
   "file_extension": ".py",
   "mimetype": "text/x-python",
   "name": "python",
   "nbconvert_exporter": "python",
   "pygments_lexer": "ipython3",
   "version": "3.7.5"
  }
 },
 "nbformat": 4,
 "nbformat_minor": 1
}
